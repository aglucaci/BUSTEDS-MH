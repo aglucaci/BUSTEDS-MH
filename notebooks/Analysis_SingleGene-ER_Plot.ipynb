{
 "cells": [
  {
   "cell_type": "code",
   "execution_count": 2,
   "id": "723df25d-9981-427a-a044-0c7b33db5b4e",
   "metadata": {},
   "outputs": [],
   "source": [
    "import pandas as pd\n",
    "import numpy as np\n",
    "import os\n",
    "import json\n",
    "import altair as alt\n",
    "import numpy as np"
   ]
  },
  {
   "cell_type": "code",
   "execution_count": 3,
   "id": "23e5e6d4-e1e4-479a-97c4-6ed0d67f8664",
   "metadata": {},
   "outputs": [],
   "source": [
    "#JSON_FILE_BUSTEDS_MH = \"../analysis/13-datasets/BUSTEDS-MH/yokoyama.rh1.cds.mod.1-990.nex.BUSTEDS-MH.json\"\n",
    "#JSON_FILE_BUSTEDS = \"../analysis/13-datasets/BUSTEDS/yokoyama.rh1.cds.mod.1-990.nex.BUSTEDS.json\"\n",
    "#JSON_FILE_MH = \"../data/13-datasets/yokoyama.rh1.cds.mod.1-990.nex.FITTER.json\"\n",
    "\n",
    "#JSON_FILE_BUSTEDS_MH = \"../analysis/13-datasets/BUSTEDS-MH/HepatitisD.nex.BUSTEDS-MH.json\"\n",
    "#JSON_FILE_BUSTEDS = \"../analysis/13-datasets/BUSTEDS/HepatitisD.nex.BUSTEDS.json\"\n",
    "#JSON_FILE_MH = \"../data/13-datasets/HepatitisD.nex.FITTER.json\"\n",
    "\n",
    "pvalueThreshold_MH = 0.05\n",
    "pvalueThreshold_BUSTEDS_MH = 0.1\n",
    "ER_THRESHOLD = 5"
   ]
  },
  {
   "cell_type": "code",
   "execution_count": 10,
   "id": "7aabf100-3a52-4e46-8298-c896e1a3e70a",
   "metadata": {},
   "outputs": [
    {
     "name": "stdout",
     "output_type": "stream",
     "text": [
      "# Number of BUSTEDS results: 13\n",
      "# Number of BUSTEDS-MH results: 13\n"
     ]
    }
   ],
   "source": [
    "# MAC OSX\n",
    "WD = \"/Users/user/Documents/BUSTEDS-MH\"\n",
    "\n",
    "BUSTEDS_DIR = os.path.join(WD, \"analysis/13-datasets/BUSTEDS\")\n",
    "BUSTEDS_MH_DIR = os.path.join(WD, \"analysis/13-datasets/BUSTEDS-MH\")\n",
    "\n",
    "BUSTEDS_DIR_FILES = [os.path.join(BUSTEDS_DIR, file.name) for file in os.scandir(BUSTEDS_DIR) if file.name.endswith(\".json\")]\n",
    "BUSTEDS_MH_DIR_FILES = [os.path.join(BUSTEDS_MH_DIR, file.name) for file in os.scandir(BUSTEDS_MH_DIR) if file.name.endswith(\".json\")]\n",
    "\n",
    "print(\"# Number of BUSTEDS results:\", len(BUSTEDS_DIR_FILES))\n",
    "print(\"# Number of BUSTEDS-MH results:\", len(BUSTEDS_MH_DIR_FILES))\n",
    "\n"
   ]
  },
  {
   "cell_type": "code",
   "execution_count": 4,
   "id": "8ab6af31-3fe9-438c-994f-b6c76893a1c7",
   "metadata": {},
   "outputs": [],
   "source": [
    "def read_json(filename):\n",
    "    print(\"# Reading:\", filename)\n",
    "    if os.stat(filename).st_size == 0: \n",
    "        return []\n",
    "    #end if\n",
    "    with open(filename, \"r\") as fh:\n",
    "        json_data = json.load(fh)\n",
    "    fh.close()\n",
    "    return json_data\n",
    "#end method"
   ]
  },
  {
   "cell_type": "markdown",
   "id": "611d0e3f-e909-47de-8b4c-aae86883c456",
   "metadata": {},
   "source": [
    "## Transform the data, easier to plot"
   ]
  },
  {
   "cell_type": "code",
   "execution_count": 53,
   "id": "9adb514b-71eb-4542-8415-0e55ba0e555f",
   "metadata": {},
   "outputs": [],
   "source": [
    "def create_df(x, y):\n",
    "    try:\n",
    "        num_sites = len(x[\"Evidence Ratios\"][\"constrained\"][0])\n",
    "        print(\"# Number of sites (BUSTEDS-MH):\", num_sites)\n",
    "    except:\n",
    "        return 1\n",
    "    pass\n",
    "\n",
    "    res = [x+1 for x in range(num_sites)]\n",
    "\n",
    "    # BUSTEDS-MH\n",
    "    bs = [\"BUSTEDS-MH\"] * num_sites\n",
    "    data_tuples = list(zip(res, x[\"Evidence Ratios\"][\"constrained\"][0], bs))\n",
    "    # Site, ER_Value, Model\n",
    "    df1 = pd.DataFrame(data_tuples, columns=['Site','Evidence Ratio', \"Method\"])\n",
    "\n",
    "    # BUSTEDS\n",
    "    bs = [\"BUSTEDS\"] * num_sites\n",
    "    data_tuples = list(zip(res, y[\"Evidence Ratios\"][\"constrained\"][0], bs))\n",
    "    # Site, ER_Value, Model\n",
    "    df3 = pd.DataFrame(data_tuples, columns=['Site','Evidence Ratio', \"Method\"])\n",
    "    \n",
    "    #result = pd.concat(df_list)\n",
    "    result = pd.concat([df1, df3])\n",
    "\n",
    "    return result\n",
    "\n",
    "\n",
    "def create_df_log10(x, y):\n",
    "    try:\n",
    "        num_sites = len(x[\"Evidence Ratios\"][\"constrained\"][0])\n",
    "        print(\"# Number of sites (BUSTEDS-MH):\", num_sites)\n",
    "    except:\n",
    "        return 1\n",
    "    pass\n",
    "\n",
    "    res = [x+1 for x in range(num_sites)]\n",
    "\n",
    "    # BUSTEDS-MH\n",
    "    bs = [\"BUSTEDS-MH\"] * num_sites\n",
    "    data_tuples = list(zip(res, np.log10(x[\"Evidence Ratios\"][\"constrained\"][0]), bs))\n",
    "    \n",
    "    # Site, ER_Value, Model\n",
    "    df1 = pd.DataFrame(data_tuples, columns=['Site','Evidence Ratio', \"Method\"])\n",
    "\n",
    "    # BUSTEDS\n",
    "    bs = [\"BUSTEDS\"] * num_sites\n",
    "    data_tuples = list(zip(res, np.log10(y[\"Evidence Ratios\"][\"constrained\"][0]), bs))\n",
    "    \n",
    "    # Site, ER_Value, Model\n",
    "    df3 = pd.DataFrame(data_tuples, columns=['Site','Evidence Ratio', \"Method\"])\n",
    "    \n",
    "    result = pd.concat([df1, df3])\n",
    "\n",
    "    return result"
   ]
  },
  {
   "cell_type": "markdown",
   "id": "3ab14257-a86f-433e-834c-79a5dae949df",
   "metadata": {},
   "source": [
    "## Pure ER's between MH, BUSTEDS, and BUSTEDS-MH"
   ]
  },
  {
   "cell_type": "markdown",
   "id": "50725a09-4e93-4acc-88d7-7a2f2faac211",
   "metadata": {},
   "source": [
    "## Visualize"
   ]
  },
  {
   "cell_type": "code",
   "execution_count": 70,
   "id": "0a37aad1-0f37-4f46-8128-84db54db833a",
   "metadata": {},
   "outputs": [],
   "source": [
    "def plot(result, JSON_FILE_BUSTEDS_MH, title_text, outfile,clamp=False):\n",
    "    source = result\n",
    "    #title_text = os.path.basename(JSON_FILE_BUSTEDS_MH).replace(\".BUSTEDS-MH.json\", \"\")\n",
    "    \n",
    "    print(\"# Plotting:\", title_text)\n",
    "    \n",
    "    if clamp == False:\n",
    "        line = alt.Chart(source, title=title_text).mark_area().encode(\n",
    "            x='Site',\n",
    "            y='sum(Evidence Ratio)',\n",
    "            color='Method'\n",
    "        ).properties(\n",
    "            width=1200,\n",
    "            height=800,\n",
    "            title=title_text).configure_axis(\n",
    "        labelFontSize=18,\n",
    "        titleFontSize=18).configure_title(fontSize=24)\n",
    "        #line\n",
    "        #chart.save('chart.png')\n",
    "        #line.save(title_text + \".png\")\n",
    "        line.save(outfile)\n",
    "        \n",
    "    if clamp == True:\n",
    "        line = alt.Chart(source, title=title_text).mark_area().encode(\n",
    "            x='Site',\n",
    "            y=alt.Y('sum(Evidence Ratio)', scale=alt.Scale(domain=(-2, 10), clamp=True)),\n",
    "            color='Method'\n",
    "        ).properties(\n",
    "            width=1200,\n",
    "            height=800,\n",
    "            title=title_text).configure_axis(\n",
    "        labelFontSize=18,\n",
    "        titleFontSize=18).configure_title(fontSize=24)\n",
    "        \n",
    "        line.save(outfile)\n",
    "        \n",
    "#plot(result)"
   ]
  },
  {
   "cell_type": "markdown",
   "id": "b69b4982-0488-4880-a459-90cba81e2b03",
   "metadata": {},
   "source": [
    "## Main"
   ]
  },
  {
   "cell_type": "code",
   "execution_count": 71,
   "id": "e0cddd39-f4f2-40f3-b738-f66af95418a2",
   "metadata": {},
   "outputs": [
    {
     "name": "stdout",
     "output_type": "stream",
     "text": [
      "/Users/user/Documents/BUSTEDS-MH/analysis/13-datasets/BUSTEDS-MH/InfluenzaA.nex.BUSTEDS-MH.json /Users/user/Documents/BUSTEDS-MH/analysis/13-datasets/BUSTEDS/InfluenzaA.nex.BUSTEDS.json\n",
      "# Reading: /Users/user/Documents/BUSTEDS-MH/analysis/13-datasets/BUSTEDS-MH/InfluenzaA.nex.BUSTEDS-MH.json\n",
      "# Reading: /Users/user/Documents/BUSTEDS-MH/analysis/13-datasets/BUSTEDS/InfluenzaA.nex.BUSTEDS.json\n",
      "# No ER data\n",
      "\n",
      "/Users/user/Documents/BUSTEDS-MH/analysis/13-datasets/BUSTEDS-MH/COXI.nex.BUSTEDS-MH.json /Users/user/Documents/BUSTEDS-MH/analysis/13-datasets/BUSTEDS/COXI.nex.BUSTEDS.json\n",
      "# Reading: /Users/user/Documents/BUSTEDS-MH/analysis/13-datasets/BUSTEDS-MH/COXI.nex.BUSTEDS-MH.json\n",
      "# Reading: /Users/user/Documents/BUSTEDS-MH/analysis/13-datasets/BUSTEDS/COXI.nex.BUSTEDS.json\n",
      "# No ER data\n",
      "\n",
      "/Users/user/Documents/BUSTEDS-MH/analysis/13-datasets/BUSTEDS-MH/flavNS5.nex.BUSTEDS-MH.json /Users/user/Documents/BUSTEDS-MH/analysis/13-datasets/BUSTEDS/flavNS5.nex.BUSTEDS.json\n",
      "# Reading: /Users/user/Documents/BUSTEDS-MH/analysis/13-datasets/BUSTEDS-MH/flavNS5.nex.BUSTEDS-MH.json\n",
      "# Reading: /Users/user/Documents/BUSTEDS-MH/analysis/13-datasets/BUSTEDS/flavNS5.nex.BUSTEDS.json\n",
      "# No ER data\n",
      "\n",
      "/Users/user/Documents/BUSTEDS-MH/analysis/13-datasets/BUSTEDS-MH/ENCenv.nex.BUSTEDS-MH.json /Users/user/Documents/BUSTEDS-MH/analysis/13-datasets/BUSTEDS/ENCenv.nex.BUSTEDS.json\n",
      "# Reading: /Users/user/Documents/BUSTEDS-MH/analysis/13-datasets/BUSTEDS-MH/ENCenv.nex.BUSTEDS-MH.json\n",
      "# Reading: /Users/user/Documents/BUSTEDS-MH/analysis/13-datasets/BUSTEDS/ENCenv.nex.BUSTEDS.json\n",
      "# No ER data\n",
      "\n",
      "/Users/user/Documents/BUSTEDS-MH/analysis/13-datasets/BUSTEDS-MH/adh.nex.BUSTEDS-MH.json /Users/user/Documents/BUSTEDS-MH/analysis/13-datasets/BUSTEDS/adh.nex.BUSTEDS.json\n",
      "# Reading: /Users/user/Documents/BUSTEDS-MH/analysis/13-datasets/BUSTEDS-MH/adh.nex.BUSTEDS-MH.json\n",
      "# Reading: /Users/user/Documents/BUSTEDS-MH/analysis/13-datasets/BUSTEDS/adh.nex.BUSTEDS.json\n",
      "# Number of sites (BUSTEDS-MH): 254\n",
      "# Number of sites (BUSTEDS-MH): 254\n",
      "# Plotting: adh.nex\n",
      "# Plotting: adh.nex\n",
      "# Plotting: adh.nex\n",
      "/Users/user/Documents/BUSTEDS-MH/analysis/13-datasets/BUSTEDS-MH/HIVvif.nex.BUSTEDS-MH.json /Users/user/Documents/BUSTEDS-MH/analysis/13-datasets/BUSTEDS/HIVvif.nex.BUSTEDS.json\n",
      "# Reading: /Users/user/Documents/BUSTEDS-MH/analysis/13-datasets/BUSTEDS-MH/HIVvif.nex.BUSTEDS-MH.json\n",
      "# Reading: /Users/user/Documents/BUSTEDS-MH/analysis/13-datasets/BUSTEDS/HIVvif.nex.BUSTEDS.json\n",
      "# No ER data\n",
      "\n",
      "/Users/user/Documents/BUSTEDS-MH/analysis/13-datasets/BUSTEDS-MH/camelid.nex.BUSTEDS-MH.json /Users/user/Documents/BUSTEDS-MH/analysis/13-datasets/BUSTEDS/camelid.nex.BUSTEDS.json\n",
      "# Reading: /Users/user/Documents/BUSTEDS-MH/analysis/13-datasets/BUSTEDS-MH/camelid.nex.BUSTEDS-MH.json\n",
      "# Reading: /Users/user/Documents/BUSTEDS-MH/analysis/13-datasets/BUSTEDS/camelid.nex.BUSTEDS.json\n",
      "# Number of sites (BUSTEDS-MH): 96\n",
      "# Number of sites (BUSTEDS-MH): 96\n",
      "# Plotting: camelid.nex\n",
      "# Plotting: camelid.nex\n",
      "# Plotting: camelid.nex\n",
      "/Users/user/Documents/BUSTEDS-MH/analysis/13-datasets/BUSTEDS-MH/lysozyme.nex.BUSTEDS-MH.json /Users/user/Documents/BUSTEDS-MH/analysis/13-datasets/BUSTEDS/lysozyme.nex.BUSTEDS.json\n",
      "# Reading: /Users/user/Documents/BUSTEDS-MH/analysis/13-datasets/BUSTEDS-MH/lysozyme.nex.BUSTEDS-MH.json\n",
      "# Reading: /Users/user/Documents/BUSTEDS-MH/analysis/13-datasets/BUSTEDS/lysozyme.nex.BUSTEDS.json\n",
      "# No ER data\n",
      "\n",
      "/Users/user/Documents/BUSTEDS-MH/analysis/13-datasets/BUSTEDS-MH/HIV_RT.nex.BUSTEDS-MH.json /Users/user/Documents/BUSTEDS-MH/analysis/13-datasets/BUSTEDS/HIV_RT.nex.BUSTEDS.json\n",
      "# Reading: /Users/user/Documents/BUSTEDS-MH/analysis/13-datasets/BUSTEDS-MH/HIV_RT.nex.BUSTEDS-MH.json\n",
      "# Reading: /Users/user/Documents/BUSTEDS-MH/analysis/13-datasets/BUSTEDS/HIV_RT.nex.BUSTEDS.json\n",
      "# Number of sites (BUSTEDS-MH): 335\n",
      "# Number of sites (BUSTEDS-MH): 335\n",
      "# Plotting: HIV_RT.nex\n",
      "# Plotting: HIV_RT.nex\n",
      "# Plotting: HIV_RT.nex\n",
      "/Users/user/Documents/BUSTEDS-MH/analysis/13-datasets/BUSTEDS-MH/HepatitisD.nex.BUSTEDS-MH.json /Users/user/Documents/BUSTEDS-MH/analysis/13-datasets/BUSTEDS/HepatitisD.nex.BUSTEDS.json\n",
      "# Reading: /Users/user/Documents/BUSTEDS-MH/analysis/13-datasets/BUSTEDS-MH/HepatitisD.nex.BUSTEDS-MH.json\n",
      "# Reading: /Users/user/Documents/BUSTEDS-MH/analysis/13-datasets/BUSTEDS/HepatitisD.nex.BUSTEDS.json\n",
      "# Number of sites (BUSTEDS-MH): 196\n",
      "# Number of sites (BUSTEDS-MH): 196\n",
      "# Plotting: HepatitisD.nex\n",
      "# Plotting: HepatitisD.nex\n",
      "# Plotting: HepatitisD.nex\n",
      "/Users/user/Documents/BUSTEDS-MH/analysis/13-datasets/BUSTEDS-MH/bglobin.nex.BUSTEDS-MH.json /Users/user/Documents/BUSTEDS-MH/analysis/13-datasets/BUSTEDS/bglobin.nex.BUSTEDS.json\n",
      "# Reading: /Users/user/Documents/BUSTEDS-MH/analysis/13-datasets/BUSTEDS-MH/bglobin.nex.BUSTEDS-MH.json\n",
      "# Reading: /Users/user/Documents/BUSTEDS-MH/analysis/13-datasets/BUSTEDS/bglobin.nex.BUSTEDS.json\n",
      "# Number of sites (BUSTEDS-MH): 144\n",
      "# Number of sites (BUSTEDS-MH): 144\n",
      "# Plotting: bglobin.nex\n",
      "# Plotting: bglobin.nex\n",
      "# Plotting: bglobin.nex\n",
      "/Users/user/Documents/BUSTEDS-MH/analysis/13-datasets/BUSTEDS-MH/yokoyama.rh1.cds.mod.1-990.nex.BUSTEDS-MH.json /Users/user/Documents/BUSTEDS-MH/analysis/13-datasets/BUSTEDS/yokoyama.rh1.cds.mod.1-990.nex.BUSTEDS.json\n",
      "# Reading: /Users/user/Documents/BUSTEDS-MH/analysis/13-datasets/BUSTEDS-MH/yokoyama.rh1.cds.mod.1-990.nex.BUSTEDS-MH.json\n",
      "# Reading: /Users/user/Documents/BUSTEDS-MH/analysis/13-datasets/BUSTEDS/yokoyama.rh1.cds.mod.1-990.nex.BUSTEDS.json\n",
      "# Number of sites (BUSTEDS-MH): 330\n",
      "# Number of sites (BUSTEDS-MH): 330\n",
      "# Plotting: yokoyama.rh1.cds.mod.1-990.nex\n",
      "# Plotting: yokoyama.rh1.cds.mod.1-990.nex\n",
      "# Plotting: yokoyama.rh1.cds.mod.1-990.nex\n",
      "/Users/user/Documents/BUSTEDS-MH/analysis/13-datasets/BUSTEDS-MH/lysin.nex.BUSTEDS-MH.json /Users/user/Documents/BUSTEDS-MH/analysis/13-datasets/BUSTEDS/lysin.nex.BUSTEDS.json\n",
      "# Reading: /Users/user/Documents/BUSTEDS-MH/analysis/13-datasets/BUSTEDS-MH/lysin.nex.BUSTEDS-MH.json\n",
      "# Reading: /Users/user/Documents/BUSTEDS-MH/analysis/13-datasets/BUSTEDS/lysin.nex.BUSTEDS.json\n",
      "# Number of sites (BUSTEDS-MH): 134\n",
      "# Number of sites (BUSTEDS-MH): 134\n",
      "# Plotting: lysin.nex\n",
      "# Plotting: lysin.nex\n",
      "# Plotting: lysin.nex\n"
     ]
    }
   ],
   "source": [
    "def main(JSON_FILE_BUSTEDS_MH, JSON_FILE_BUSTEDS):\n",
    "    \n",
    "    title_text = os.path.basename(JSON_FILE_BUSTEDS_MH).replace(\".BUSTEDS-MH.json\", \"\")\n",
    "    \n",
    "    x = read_json(JSON_FILE_BUSTEDS_MH)\n",
    "    y = read_json(JSON_FILE_BUSTEDS)\n",
    "    \n",
    "    result = create_df(x, y)\n",
    "    result_log10 = create_df_log10(x, y)\n",
    "    \n",
    "    if type(result) != pd.core.frame.DataFrame:\n",
    "        print(\"# No ER data\")\n",
    "        print()\n",
    "        return # Error\n",
    "    else:\n",
    "        #print(result)\n",
    "        outfile = title_text + \".png\"\n",
    "        plot(result, JSON_FILE_BUSTEDS_MH, title_text, outfile)\n",
    "        outfile_log10 = title_text + \"_log10.png\"\n",
    "        plot(result_log10, JSON_FILE_BUSTEDS_MH, title_text, outfile_log10)\n",
    "        \n",
    "        outfile_log10 = title_text + \"_log10_clamp.png\"\n",
    "        plot(result_log10, JSON_FILE_BUSTEDS_MH, title_text, outfile_log10, True)\n",
    "    #end if\n",
    "    \n",
    "#end method\\\n",
    "\n",
    "for BUSTEDSMH_File in BUSTEDS_MH_DIR_FILES:\n",
    "    basename = os.path.basename(BUSTEDSMH_File).replace(\".nex.BUSTEDS-MH.json\", \"\")\n",
    "    # Find BUSTEDS File\n",
    "    BUSTEDS_File = os.path.join(BUSTEDS_DIR, basename + \".nex.BUSTEDS.json\")\n",
    "    print(BUSTEDSMH_File, BUSTEDS_File)\n",
    "    \n",
    "    main(BUSTEDSMH_File, BUSTEDS_File)"
   ]
  },
  {
   "cell_type": "code",
   "execution_count": 48,
   "id": "04c704be-f525-41a7-bf64-3d9a064ff4a9",
   "metadata": {},
   "outputs": [
    {
     "data": {
      "text/plain": [
       "pandas.core.frame.DataFrame"
      ]
     },
     "execution_count": 48,
     "metadata": {},
     "output_type": "execute_result"
    }
   ],
   "source": [
    "type(result)\n"
   ]
  },
  {
   "cell_type": "code",
   "execution_count": null,
   "id": "78555c1d-e298-4444-b210-a72bbc9b2163",
   "metadata": {},
   "outputs": [],
   "source": []
  },
  {
   "cell_type": "code",
   "execution_count": null,
   "id": "a3da7698-0886-4b6a-a734-722baac49c90",
   "metadata": {},
   "outputs": [],
   "source": []
  }
 ],
 "metadata": {
  "kernelspec": {
   "display_name": "Python 3 (ipykernel)",
   "language": "python",
   "name": "python3"
  },
  "language_info": {
   "codemirror_mode": {
    "name": "ipython",
    "version": 3
   },
   "file_extension": ".py",
   "mimetype": "text/x-python",
   "name": "python",
   "nbconvert_exporter": "python",
   "pygments_lexer": "ipython3",
   "version": "3.7.11"
  }
 },
 "nbformat": 4,
 "nbformat_minor": 5
}
