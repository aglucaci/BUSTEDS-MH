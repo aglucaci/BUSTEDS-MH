{
 "cells": [
  {
   "cell_type": "code",
   "execution_count": 4,
   "id": "723df25d-9981-427a-a044-0c7b33db5b4e",
   "metadata": {},
   "outputs": [],
   "source": [
    "import pandas as pd\n",
    "import numpy as np\n",
    "import os\n",
    "import json\n",
    "import altair as alt\n",
    "import numpy as np"
   ]
  },
  {
   "cell_type": "code",
   "execution_count": 5,
   "id": "23e5e6d4-e1e4-479a-97c4-6ed0d67f8664",
   "metadata": {},
   "outputs": [],
   "source": [
    "#JSON_FILE_BUSTEDS_MH = \"../analysis/13-datasets/BUSTEDS-MH/yokoyama.rh1.cds.mod.1-990.nex.BUSTEDS-MH.json\"\n",
    "#JSON_FILE_BUSTEDS = \"../analysis/13-datasets/BUSTEDS/yokoyama.rh1.cds.mod.1-990.nex.BUSTEDS.json\"\n",
    "#JSON_FILE_MH = \"../data/13-datasets/yokoyama.rh1.cds.mod.1-990.nex.FITTER.json\"\n",
    "\n",
    "#JSON_FILE_BUSTEDS_MH = \"../analysis/13-datasets/BUSTEDS-MH/HepatitisD.nex.BUSTEDS-MH.json\"\n",
    "#JSON_FILE_BUSTEDS = \"../analysis/13-datasets/BUSTEDS/HepatitisD.nex.BUSTEDS.json\"\n",
    "#JSON_FILE_MH = \"../data/13-datasets/HepatitisD.nex.FITTER.json\"\n",
    "\n",
    "pvalueThreshold_MH = 0.05\n",
    "pvalueThreshold_BUSTEDS_MH = 0.05\n",
    "ER_THRESHOLD = 5"
   ]
  },
  {
   "cell_type": "code",
   "execution_count": 6,
   "id": "7aabf100-3a52-4e46-8298-c896e1a3e70a",
   "metadata": {},
   "outputs": [
    {
     "name": "stdout",
     "output_type": "stream",
     "text": [
      "# Number of BUSTEDS results: 13\n",
      "# Number of BUSTEDS-MH results: 13\n"
     ]
    }
   ],
   "source": [
    "# MAC OSX\n",
    "#WD = \"/Users/user/Documents/BUSTEDS-MH\"\n",
    "WD = os.path.join(\"E:\\\\\", \"BUSTEDS-MH\")\n",
    "#DATA = os.path.join(WD, \"tables\", \"Table_13Datasets_BUSTEDS_and_BUSTEDS-MH.csv\")\n",
    "BUSTEDS_DIR = os.path.join(WD, \"analysis\", \"13-datasets\", \"BUSTEDS\")\n",
    "BUSTEDS_MH_DIR = os.path.join(WD, \"analysis\", \"13-datasets\", \"BUSTEDS-MH\")\n",
    "\n",
    "BUSTEDS_DIR_FILES = [os.path.join(BUSTEDS_DIR, file.name) for file in os.scandir(BUSTEDS_DIR) if file.name.endswith(\".json\")]\n",
    "BUSTEDS_MH_DIR_FILES = [os.path.join(BUSTEDS_MH_DIR, file.name) for file in os.scandir(BUSTEDS_MH_DIR) if file.name.endswith(\".json\")]\n",
    "\n",
    "print(\"# Number of BUSTEDS results:\", len(BUSTEDS_DIR_FILES))\n",
    "print(\"# Number of BUSTEDS-MH results:\", len(BUSTEDS_MH_DIR_FILES))\n",
    "\n"
   ]
  },
  {
   "cell_type": "code",
   "execution_count": 7,
   "id": "8ab6af31-3fe9-438c-994f-b6c76893a1c7",
   "metadata": {},
   "outputs": [],
   "source": [
    "def read_json(filename):\n",
    "    print(\"# Reading:\", filename)\n",
    "    if os.stat(filename).st_size == 0: \n",
    "        return []\n",
    "    #end if\n",
    "    with open(filename, \"r\") as fh:\n",
    "        json_data = json.load(fh)\n",
    "    fh.close()\n",
    "    return json_data\n",
    "#end method"
   ]
  },
  {
   "cell_type": "markdown",
   "id": "611d0e3f-e909-47de-8b4c-aae86883c456",
   "metadata": {},
   "source": [
    "## Transform the data, easier to plot"
   ]
  },
  {
   "cell_type": "code",
   "execution_count": 8,
   "id": "9adb514b-71eb-4542-8415-0e55ba0e555f",
   "metadata": {},
   "outputs": [],
   "source": [
    "def create_df(x, y):\n",
    "    try:\n",
    "        num_sites = len(x[\"Evidence Ratios\"][\"constrained\"][0])\n",
    "        print(\"# Number of sites (BUSTEDS-MH):\", num_sites)\n",
    "    except:\n",
    "        return 1\n",
    "    pass\n",
    "\n",
    "    res = [x+1 for x in range(num_sites)]\n",
    "\n",
    "    # BUSTEDS-MH\n",
    "    bs = [\"BUSTEDS-MH\"] * num_sites\n",
    "    data_tuples = list(zip(res, x[\"Evidence Ratios\"][\"constrained\"][0], bs))\n",
    "    # Site, ER_Value, Model\n",
    "    df1 = pd.DataFrame(data_tuples, columns=['Site','Evidence Ratio', \"Method\"])\n",
    "\n",
    "    # BUSTEDS\n",
    "    bs = [\"BUSTEDS\"] * num_sites\n",
    "    data_tuples = list(zip(res, y[\"Evidence Ratios\"][\"constrained\"][0], bs))\n",
    "    # Site, ER_Value, Model\n",
    "    df3 = pd.DataFrame(data_tuples, columns=['Site','Evidence Ratio', \"Method\"])\n",
    "    \n",
    "    #result = pd.concat(df_list)\n",
    "    result = pd.concat([df1, df3])\n",
    "\n",
    "    return result\n",
    "\n",
    "\n",
    "def create_df_log10(x, y):\n",
    "    try:\n",
    "        num_sites = len(x[\"Evidence Ratios\"][\"constrained\"][0])\n",
    "        print(\"# Number of sites (BUSTEDS-MH):\", num_sites)\n",
    "    except:\n",
    "        return 1\n",
    "    pass\n",
    "\n",
    "    res = [x+1 for x in range(num_sites)]\n",
    "\n",
    "    # BUSTEDS-MH\n",
    "    bs = [\"BUSTEDS-MH\"] * num_sites\n",
    "    data_tuples = list(zip(res, np.log10(x[\"Evidence Ratios\"][\"constrained\"][0]), bs))\n",
    "    \n",
    "    # Site, ER_Value, Model\n",
    "    df1 = pd.DataFrame(data_tuples, columns=['Site','Evidence Ratio', \"Method\"])\n",
    "\n",
    "    # BUSTEDS\n",
    "    bs = [\"BUSTEDS\"] * num_sites\n",
    "    data_tuples = list(zip(res, np.log10(y[\"Evidence Ratios\"][\"constrained\"][0]), bs))\n",
    "    \n",
    "    # Site, ER_Value, Model\n",
    "    df3 = pd.DataFrame(data_tuples, columns=['Site','Evidence Ratio', \"Method\"])\n",
    "    \n",
    "    result = pd.concat([df1, df3])\n",
    "\n",
    "    return result"
   ]
  },
  {
   "cell_type": "markdown",
   "id": "3ab14257-a86f-433e-834c-79a5dae949df",
   "metadata": {},
   "source": [
    "## Pure ER's between MH, BUSTEDS, and BUSTEDS-MH"
   ]
  },
  {
   "cell_type": "markdown",
   "id": "50725a09-4e93-4acc-88d7-7a2f2faac211",
   "metadata": {},
   "source": [
    "## Visualize"
   ]
  },
  {
   "cell_type": "code",
   "execution_count": 18,
   "id": "0a37aad1-0f37-4f46-8128-84db54db833a",
   "metadata": {},
   "outputs": [],
   "source": [
    "from altair_saver import save\n",
    "def plot(result, JSON_FILE_BUSTEDS_MH, title_text, outfile,clamp=False):\n",
    "    source = result\n",
    "    #title_text = os.path.basename(JSON_FILE_BUSTEDS_MH).replace(\".BUSTEDS-MH.json\", \"\")\n",
    "    \n",
    "    print(\"# Plotting:\", title_text)\n",
    "    \n",
    "    if clamp == False:\n",
    "        line = alt.Chart(source, title=title_text).mark_area().encode(\n",
    "            x='Site',\n",
    "            y='sum(Evidence Ratio)',\n",
    "            color='Method'\n",
    "        ).properties(\n",
    "            width=1200,\n",
    "            height=800,\n",
    "            title=title_text).configure_axis(\n",
    "        labelFontSize=18,\n",
    "        titleFontSize=18).configure_title(fontSize=24)\n",
    "        #line\n",
    "        #chart.save('chart.png')\n",
    "        #line.save(title_text + \".png\")\n",
    "        #line.save(outfile)\n",
    "        print(\"# Saving plot:\", outfile)\n",
    "        save(line, outfile)\n",
    "        \n",
    "    if clamp == True:\n",
    "        line = alt.Chart(source, title=title_text).mark_area().encode(\n",
    "            x='Site',\n",
    "            y=alt.Y('sum(Evidence Ratio)', scale=alt.Scale(domain=(-2, 10), clamp=True)),\n",
    "            color='Method'\n",
    "        ).properties(\n",
    "            width=1200,\n",
    "            height=800,\n",
    "            title=title_text).configure_axis(\n",
    "        labelFontSize=18,\n",
    "        titleFontSize=18).configure_title(fontSize=24)\n",
    "        \n",
    "        #line.save(outfile)\n",
    "        \n",
    "#plot(result)"
   ]
  },
  {
   "cell_type": "markdown",
   "id": "b69b4982-0488-4880-a459-90cba81e2b03",
   "metadata": {},
   "source": [
    "## Main"
   ]
  },
  {
   "cell_type": "code",
   "execution_count": 19,
   "id": "e0cddd39-f4f2-40f3-b738-f66af95418a2",
   "metadata": {},
   "outputs": [
    {
     "name": "stdout",
     "output_type": "stream",
     "text": [
      "E:\\BUSTEDS-MH\\analysis\\13-datasets\\BUSTEDS-MH\\adh.nex.BUSTEDS-MH.json E:\\BUSTEDS-MH\\analysis\\13-datasets\\BUSTEDS\\adh.nex.BUSTEDS.json\n",
      "# Reading: E:\\BUSTEDS-MH\\analysis\\13-datasets\\BUSTEDS-MH\\adh.nex.BUSTEDS-MH.json\n",
      "# Reading: E:\\BUSTEDS-MH\\analysis\\13-datasets\\BUSTEDS\\adh.nex.BUSTEDS.json\n",
      "# Number of sites (BUSTEDS-MH): 254\n",
      "# Number of sites (BUSTEDS-MH): 254\n",
      "# Plotting: adh.nex\n",
      "# Saving plot: adh.nex.png\n"
     ]
    },
    {
     "ename": "JSONDecodeError",
     "evalue": "Expecting value: line 2 column 1 (char 2)",
     "output_type": "error",
     "traceback": [
      "\u001b[1;31m---------------------------------------------------------------------------\u001b[0m",
      "\u001b[1;31mJSONDecodeError\u001b[0m                           Traceback (most recent call last)",
      "\u001b[1;32m<ipython-input-19-27754d2e4bcc>\u001b[0m in \u001b[0;36m<module>\u001b[1;34m\u001b[0m\n\u001b[0;32m     30\u001b[0m     \u001b[0mprint\u001b[0m\u001b[1;33m(\u001b[0m\u001b[0mBUSTEDSMH_File\u001b[0m\u001b[1;33m,\u001b[0m \u001b[0mBUSTEDS_File\u001b[0m\u001b[1;33m)\u001b[0m\u001b[1;33m\u001b[0m\u001b[1;33m\u001b[0m\u001b[0m\n\u001b[0;32m     31\u001b[0m \u001b[1;33m\u001b[0m\u001b[0m\n\u001b[1;32m---> 32\u001b[1;33m     \u001b[0mmain\u001b[0m\u001b[1;33m(\u001b[0m\u001b[0mBUSTEDSMH_File\u001b[0m\u001b[1;33m,\u001b[0m \u001b[0mBUSTEDS_File\u001b[0m\u001b[1;33m)\u001b[0m\u001b[1;33m\u001b[0m\u001b[1;33m\u001b[0m\u001b[0m\n\u001b[0m",
      "\u001b[1;32m<ipython-input-19-27754d2e4bcc>\u001b[0m in \u001b[0;36mmain\u001b[1;34m(JSON_FILE_BUSTEDS_MH, JSON_FILE_BUSTEDS)\u001b[0m\n\u001b[0;32m     14\u001b[0m         \u001b[1;31m#print(result)\u001b[0m\u001b[1;33m\u001b[0m\u001b[1;33m\u001b[0m\u001b[1;33m\u001b[0m\u001b[0m\n\u001b[0;32m     15\u001b[0m         \u001b[0moutfile\u001b[0m \u001b[1;33m=\u001b[0m \u001b[0mtitle_text\u001b[0m \u001b[1;33m+\u001b[0m \u001b[1;34m\".png\"\u001b[0m\u001b[1;33m\u001b[0m\u001b[1;33m\u001b[0m\u001b[0m\n\u001b[1;32m---> 16\u001b[1;33m         \u001b[0mplot\u001b[0m\u001b[1;33m(\u001b[0m\u001b[0mresult\u001b[0m\u001b[1;33m,\u001b[0m \u001b[0mJSON_FILE_BUSTEDS_MH\u001b[0m\u001b[1;33m,\u001b[0m \u001b[0mtitle_text\u001b[0m\u001b[1;33m,\u001b[0m \u001b[0moutfile\u001b[0m\u001b[1;33m)\u001b[0m\u001b[1;33m\u001b[0m\u001b[1;33m\u001b[0m\u001b[0m\n\u001b[0m\u001b[0;32m     17\u001b[0m         \u001b[0moutfile_log10\u001b[0m \u001b[1;33m=\u001b[0m \u001b[0mtitle_text\u001b[0m \u001b[1;33m+\u001b[0m \u001b[1;34m\"_log10.png\"\u001b[0m\u001b[1;33m\u001b[0m\u001b[1;33m\u001b[0m\u001b[0m\n\u001b[0;32m     18\u001b[0m         \u001b[0mplot\u001b[0m\u001b[1;33m(\u001b[0m\u001b[0mresult_log10\u001b[0m\u001b[1;33m,\u001b[0m \u001b[0mJSON_FILE_BUSTEDS_MH\u001b[0m\u001b[1;33m,\u001b[0m \u001b[0mtitle_text\u001b[0m\u001b[1;33m,\u001b[0m \u001b[0moutfile_log10\u001b[0m\u001b[1;33m)\u001b[0m\u001b[1;33m\u001b[0m\u001b[1;33m\u001b[0m\u001b[0m\n",
      "\u001b[1;32m<ipython-input-18-c2821f71bde8>\u001b[0m in \u001b[0;36mplot\u001b[1;34m(result, JSON_FILE_BUSTEDS_MH, title_text, outfile, clamp)\u001b[0m\n\u001b[0;32m     22\u001b[0m         \u001b[1;31m#line.save(outfile)\u001b[0m\u001b[1;33m\u001b[0m\u001b[1;33m\u001b[0m\u001b[1;33m\u001b[0m\u001b[0m\n\u001b[0;32m     23\u001b[0m         \u001b[0mprint\u001b[0m\u001b[1;33m(\u001b[0m\u001b[1;34m\"# Saving plot:\"\u001b[0m\u001b[1;33m,\u001b[0m \u001b[0moutfile\u001b[0m\u001b[1;33m)\u001b[0m\u001b[1;33m\u001b[0m\u001b[1;33m\u001b[0m\u001b[0m\n\u001b[1;32m---> 24\u001b[1;33m         \u001b[0msave\u001b[0m\u001b[1;33m(\u001b[0m\u001b[0mline\u001b[0m\u001b[1;33m,\u001b[0m \u001b[0moutfile\u001b[0m\u001b[1;33m)\u001b[0m\u001b[1;33m\u001b[0m\u001b[1;33m\u001b[0m\u001b[0m\n\u001b[0m\u001b[0;32m     25\u001b[0m \u001b[1;33m\u001b[0m\u001b[0m\n\u001b[0;32m     26\u001b[0m     \u001b[1;32mif\u001b[0m \u001b[0mclamp\u001b[0m \u001b[1;33m==\u001b[0m \u001b[1;32mTrue\u001b[0m\u001b[1;33m:\u001b[0m\u001b[1;33m\u001b[0m\u001b[1;33m\u001b[0m\u001b[0m\n",
      "\u001b[1;32m~\\AppData\\Roaming\\Python\\Python39\\site-packages\\altair_saver\\_core.py\u001b[0m in \u001b[0;36msave\u001b[1;34m(chart, fp, fmt, mode, embed_options, method, suppress_data_warning, **kwargs)\u001b[0m\n\u001b[0;32m    170\u001b[0m     \u001b[0msaver\u001b[0m \u001b[1;33m=\u001b[0m \u001b[0mSaver\u001b[0m\u001b[1;33m(\u001b[0m\u001b[0mspec\u001b[0m\u001b[1;33m,\u001b[0m \u001b[0mmode\u001b[0m\u001b[1;33m=\u001b[0m\u001b[0mmode\u001b[0m\u001b[1;33m,\u001b[0m \u001b[0membed_options\u001b[0m\u001b[1;33m=\u001b[0m\u001b[0membed_options\u001b[0m\u001b[1;33m,\u001b[0m \u001b[1;33m**\u001b[0m\u001b[0mkwargs\u001b[0m\u001b[1;33m)\u001b[0m\u001b[1;33m\u001b[0m\u001b[1;33m\u001b[0m\u001b[0m\n\u001b[0;32m    171\u001b[0m \u001b[1;33m\u001b[0m\u001b[0m\n\u001b[1;32m--> 172\u001b[1;33m     \u001b[1;32mreturn\u001b[0m \u001b[0msaver\u001b[0m\u001b[1;33m.\u001b[0m\u001b[0msave\u001b[0m\u001b[1;33m(\u001b[0m\u001b[0mfp\u001b[0m\u001b[1;33m=\u001b[0m\u001b[0mfp\u001b[0m\u001b[1;33m,\u001b[0m \u001b[0mfmt\u001b[0m\u001b[1;33m=\u001b[0m\u001b[0mfmt\u001b[0m\u001b[1;33m)\u001b[0m\u001b[1;33m\u001b[0m\u001b[1;33m\u001b[0m\u001b[0m\n\u001b[0m\u001b[0;32m    173\u001b[0m \u001b[1;33m\u001b[0m\u001b[0m\n\u001b[0;32m    174\u001b[0m \u001b[1;33m\u001b[0m\u001b[0m\n",
      "\u001b[1;32m~\\AppData\\Roaming\\Python\\Python39\\site-packages\\altair_saver\\savers\\_saver.py\u001b[0m in \u001b[0;36msave\u001b[1;34m(self, fp, fmt)\u001b[0m\n\u001b[0;32m    119\u001b[0m             \u001b[1;32mraise\u001b[0m \u001b[0mValueError\u001b[0m\u001b[1;33m(\u001b[0m\u001b[1;34mf\"Got fmt={fmt}; expected one of {self.valid_formats}\"\u001b[0m\u001b[1;33m)\u001b[0m\u001b[1;33m\u001b[0m\u001b[1;33m\u001b[0m\u001b[0m\n\u001b[0;32m    120\u001b[0m \u001b[1;33m\u001b[0m\u001b[0m\n\u001b[1;32m--> 121\u001b[1;33m         \u001b[0mcontent\u001b[0m \u001b[1;33m=\u001b[0m \u001b[0mself\u001b[0m\u001b[1;33m.\u001b[0m\u001b[0m_serialize\u001b[0m\u001b[1;33m(\u001b[0m\u001b[0mfmt\u001b[0m\u001b[1;33m,\u001b[0m \u001b[1;34m\"save\"\u001b[0m\u001b[1;33m)\u001b[0m\u001b[1;33m\u001b[0m\u001b[1;33m\u001b[0m\u001b[0m\n\u001b[0m\u001b[0;32m    122\u001b[0m         \u001b[1;32mif\u001b[0m \u001b[0mfp\u001b[0m \u001b[1;32mis\u001b[0m \u001b[1;32mNone\u001b[0m\u001b[1;33m:\u001b[0m\u001b[1;33m\u001b[0m\u001b[1;33m\u001b[0m\u001b[0m\n\u001b[0;32m    123\u001b[0m             \u001b[1;32mif\u001b[0m \u001b[0misinstance\u001b[0m\u001b[1;33m(\u001b[0m\u001b[0mcontent\u001b[0m\u001b[1;33m,\u001b[0m \u001b[0mdict\u001b[0m\u001b[1;33m)\u001b[0m\u001b[1;33m:\u001b[0m\u001b[1;33m\u001b[0m\u001b[1;33m\u001b[0m\u001b[0m\n",
      "\u001b[1;32m~\\AppData\\Roaming\\Python\\Python39\\site-packages\\altair_saver\\savers\\_node.py\u001b[0m in \u001b[0;36m_serialize\u001b[1;34m(self, fmt, content_type)\u001b[0m\n\u001b[0;32m    112\u001b[0m \u001b[1;33m\u001b[0m\u001b[0m\n\u001b[0;32m    113\u001b[0m         \u001b[1;32mif\u001b[0m \u001b[0mself\u001b[0m\u001b[1;33m.\u001b[0m\u001b[0m_mode\u001b[0m \u001b[1;33m==\u001b[0m \u001b[1;34m\"vega-lite\"\u001b[0m\u001b[1;33m:\u001b[0m\u001b[1;33m\u001b[0m\u001b[1;33m\u001b[0m\u001b[0m\n\u001b[1;32m--> 114\u001b[1;33m             \u001b[0mspec\u001b[0m \u001b[1;33m=\u001b[0m \u001b[0mself\u001b[0m\u001b[1;33m.\u001b[0m\u001b[0m_vl2vg\u001b[0m\u001b[1;33m(\u001b[0m\u001b[0mspec\u001b[0m\u001b[1;33m)\u001b[0m\u001b[1;33m\u001b[0m\u001b[1;33m\u001b[0m\u001b[0m\n\u001b[0m\u001b[0;32m    115\u001b[0m \u001b[1;33m\u001b[0m\u001b[0m\n\u001b[0;32m    116\u001b[0m         \u001b[1;32mif\u001b[0m \u001b[0mfmt\u001b[0m \u001b[1;33m==\u001b[0m \u001b[1;34m\"vega\"\u001b[0m\u001b[1;33m:\u001b[0m\u001b[1;33m\u001b[0m\u001b[1;33m\u001b[0m\u001b[0m\n",
      "\u001b[1;32m~\\AppData\\Roaming\\Python\\Python39\\site-packages\\altair_saver\\savers\\_node.py\u001b[0m in \u001b[0;36m_vl2vg\u001b[1;34m(self, spec)\u001b[0m\n\u001b[0;32m     66\u001b[0m             \u001b[1;33m[\u001b[0m\u001b[0mvl2vg\u001b[0m\u001b[1;33m]\u001b[0m\u001b[1;33m,\u001b[0m \u001b[0minput\u001b[0m\u001b[1;33m=\u001b[0m\u001b[0mvl_json\u001b[0m\u001b[1;33m,\u001b[0m \u001b[0mstderr_filter\u001b[0m\u001b[1;33m=\u001b[0m\u001b[0mself\u001b[0m\u001b[1;33m.\u001b[0m\u001b[0m_stderr_filter\u001b[0m\u001b[1;33m\u001b[0m\u001b[1;33m\u001b[0m\u001b[0m\n\u001b[0;32m     67\u001b[0m         )\n\u001b[1;32m---> 68\u001b[1;33m         \u001b[1;32mreturn\u001b[0m \u001b[0mjson\u001b[0m\u001b[1;33m.\u001b[0m\u001b[0mloads\u001b[0m\u001b[1;33m(\u001b[0m\u001b[0mvg_json\u001b[0m\u001b[1;33m)\u001b[0m\u001b[1;33m\u001b[0m\u001b[1;33m\u001b[0m\u001b[0m\n\u001b[0m\u001b[0;32m     69\u001b[0m \u001b[1;33m\u001b[0m\u001b[0m\n\u001b[0;32m     70\u001b[0m     \u001b[1;32mdef\u001b[0m \u001b[0m_vg2png\u001b[0m\u001b[1;33m(\u001b[0m\u001b[0mself\u001b[0m\u001b[1;33m,\u001b[0m \u001b[0mspec\u001b[0m\u001b[1;33m:\u001b[0m \u001b[0mJSONDict\u001b[0m\u001b[1;33m)\u001b[0m \u001b[1;33m->\u001b[0m \u001b[0mbytes\u001b[0m\u001b[1;33m:\u001b[0m\u001b[1;33m\u001b[0m\u001b[1;33m\u001b[0m\u001b[0m\n",
      "\u001b[1;32mc:\\python39\\lib\\json\\__init__.py\u001b[0m in \u001b[0;36mloads\u001b[1;34m(s, cls, object_hook, parse_float, parse_int, parse_constant, object_pairs_hook, **kw)\u001b[0m\n\u001b[0;32m    344\u001b[0m             \u001b[0mparse_int\u001b[0m \u001b[1;32mis\u001b[0m \u001b[1;32mNone\u001b[0m \u001b[1;32mand\u001b[0m \u001b[0mparse_float\u001b[0m \u001b[1;32mis\u001b[0m \u001b[1;32mNone\u001b[0m \u001b[1;32mand\u001b[0m\u001b[1;33m\u001b[0m\u001b[1;33m\u001b[0m\u001b[0m\n\u001b[0;32m    345\u001b[0m             parse_constant is None and object_pairs_hook is None and not kw):\n\u001b[1;32m--> 346\u001b[1;33m         \u001b[1;32mreturn\u001b[0m \u001b[0m_default_decoder\u001b[0m\u001b[1;33m.\u001b[0m\u001b[0mdecode\u001b[0m\u001b[1;33m(\u001b[0m\u001b[0ms\u001b[0m\u001b[1;33m)\u001b[0m\u001b[1;33m\u001b[0m\u001b[1;33m\u001b[0m\u001b[0m\n\u001b[0m\u001b[0;32m    347\u001b[0m     \u001b[1;32mif\u001b[0m \u001b[0mcls\u001b[0m \u001b[1;32mis\u001b[0m \u001b[1;32mNone\u001b[0m\u001b[1;33m:\u001b[0m\u001b[1;33m\u001b[0m\u001b[1;33m\u001b[0m\u001b[0m\n\u001b[0;32m    348\u001b[0m         \u001b[0mcls\u001b[0m \u001b[1;33m=\u001b[0m \u001b[0mJSONDecoder\u001b[0m\u001b[1;33m\u001b[0m\u001b[1;33m\u001b[0m\u001b[0m\n",
      "\u001b[1;32mc:\\python39\\lib\\json\\decoder.py\u001b[0m in \u001b[0;36mdecode\u001b[1;34m(self, s, _w)\u001b[0m\n\u001b[0;32m    335\u001b[0m \u001b[1;33m\u001b[0m\u001b[0m\n\u001b[0;32m    336\u001b[0m         \"\"\"\n\u001b[1;32m--> 337\u001b[1;33m         \u001b[0mobj\u001b[0m\u001b[1;33m,\u001b[0m \u001b[0mend\u001b[0m \u001b[1;33m=\u001b[0m \u001b[0mself\u001b[0m\u001b[1;33m.\u001b[0m\u001b[0mraw_decode\u001b[0m\u001b[1;33m(\u001b[0m\u001b[0ms\u001b[0m\u001b[1;33m,\u001b[0m \u001b[0midx\u001b[0m\u001b[1;33m=\u001b[0m\u001b[0m_w\u001b[0m\u001b[1;33m(\u001b[0m\u001b[0ms\u001b[0m\u001b[1;33m,\u001b[0m \u001b[1;36m0\u001b[0m\u001b[1;33m)\u001b[0m\u001b[1;33m.\u001b[0m\u001b[0mend\u001b[0m\u001b[1;33m(\u001b[0m\u001b[1;33m)\u001b[0m\u001b[1;33m)\u001b[0m\u001b[1;33m\u001b[0m\u001b[1;33m\u001b[0m\u001b[0m\n\u001b[0m\u001b[0;32m    338\u001b[0m         \u001b[0mend\u001b[0m \u001b[1;33m=\u001b[0m \u001b[0m_w\u001b[0m\u001b[1;33m(\u001b[0m\u001b[0ms\u001b[0m\u001b[1;33m,\u001b[0m \u001b[0mend\u001b[0m\u001b[1;33m)\u001b[0m\u001b[1;33m.\u001b[0m\u001b[0mend\u001b[0m\u001b[1;33m(\u001b[0m\u001b[1;33m)\u001b[0m\u001b[1;33m\u001b[0m\u001b[1;33m\u001b[0m\u001b[0m\n\u001b[0;32m    339\u001b[0m         \u001b[1;32mif\u001b[0m \u001b[0mend\u001b[0m \u001b[1;33m!=\u001b[0m \u001b[0mlen\u001b[0m\u001b[1;33m(\u001b[0m\u001b[0ms\u001b[0m\u001b[1;33m)\u001b[0m\u001b[1;33m:\u001b[0m\u001b[1;33m\u001b[0m\u001b[1;33m\u001b[0m\u001b[0m\n",
      "\u001b[1;32mc:\\python39\\lib\\json\\decoder.py\u001b[0m in \u001b[0;36mraw_decode\u001b[1;34m(self, s, idx)\u001b[0m\n\u001b[0;32m    353\u001b[0m             \u001b[0mobj\u001b[0m\u001b[1;33m,\u001b[0m \u001b[0mend\u001b[0m \u001b[1;33m=\u001b[0m \u001b[0mself\u001b[0m\u001b[1;33m.\u001b[0m\u001b[0mscan_once\u001b[0m\u001b[1;33m(\u001b[0m\u001b[0ms\u001b[0m\u001b[1;33m,\u001b[0m \u001b[0midx\u001b[0m\u001b[1;33m)\u001b[0m\u001b[1;33m\u001b[0m\u001b[1;33m\u001b[0m\u001b[0m\n\u001b[0;32m    354\u001b[0m         \u001b[1;32mexcept\u001b[0m \u001b[0mStopIteration\u001b[0m \u001b[1;32mas\u001b[0m \u001b[0merr\u001b[0m\u001b[1;33m:\u001b[0m\u001b[1;33m\u001b[0m\u001b[1;33m\u001b[0m\u001b[0m\n\u001b[1;32m--> 355\u001b[1;33m             \u001b[1;32mraise\u001b[0m \u001b[0mJSONDecodeError\u001b[0m\u001b[1;33m(\u001b[0m\u001b[1;34m\"Expecting value\"\u001b[0m\u001b[1;33m,\u001b[0m \u001b[0ms\u001b[0m\u001b[1;33m,\u001b[0m \u001b[0merr\u001b[0m\u001b[1;33m.\u001b[0m\u001b[0mvalue\u001b[0m\u001b[1;33m)\u001b[0m \u001b[1;32mfrom\u001b[0m \u001b[1;32mNone\u001b[0m\u001b[1;33m\u001b[0m\u001b[1;33m\u001b[0m\u001b[0m\n\u001b[0m\u001b[0;32m    356\u001b[0m         \u001b[1;32mreturn\u001b[0m \u001b[0mobj\u001b[0m\u001b[1;33m,\u001b[0m \u001b[0mend\u001b[0m\u001b[1;33m\u001b[0m\u001b[1;33m\u001b[0m\u001b[0m\n",
      "\u001b[1;31mJSONDecodeError\u001b[0m: Expecting value: line 2 column 1 (char 2)"
     ]
    }
   ],
   "source": [
    "def main(JSON_FILE_BUSTEDS_MH, JSON_FILE_BUSTEDS):\n",
    "    \n",
    "    title_text = os.path.basename(JSON_FILE_BUSTEDS_MH).replace(\".BUSTEDS-MH.json\", \"\")\n",
    "    x = read_json(JSON_FILE_BUSTEDS_MH)\n",
    "    y = read_json(JSON_FILE_BUSTEDS)\n",
    "    result = create_df(x, y)\n",
    "    result_log10 = create_df_log10(x, y)\n",
    "    \n",
    "    if type(result) != pd.core.frame.DataFrame:\n",
    "        print(\"# No ER data\")\n",
    "        print()\n",
    "        return # Error\n",
    "    else:\n",
    "        #print(result)\n",
    "        outfile = title_text + \".png\"\n",
    "        plot(result, JSON_FILE_BUSTEDS_MH, title_text, outfile)\n",
    "        outfile_log10 = title_text + \"_log10.png\"\n",
    "        plot(result_log10, JSON_FILE_BUSTEDS_MH, title_text, outfile_log10)\n",
    "        #outfile_log10 = title_text + \"_log10_clamp.png\"\n",
    "        #plot(result_log10, JSON_FILE_BUSTEDS_MH, title_text, outfile_log10, True)\n",
    "        \n",
    "    #end if\n",
    "    \n",
    "#end method\\\n",
    "\n",
    "for BUSTEDSMH_File in BUSTEDS_MH_DIR_FILES:\n",
    "    basename = os.path.basename(BUSTEDSMH_File).replace(\".nex.BUSTEDS-MH.json\", \"\")\n",
    "    # Find BUSTEDS File\n",
    "    BUSTEDS_File = os.path.join(BUSTEDS_DIR, basename + \".nex.BUSTEDS.json\")\n",
    "    print(BUSTEDSMH_File, BUSTEDS_File)\n",
    "    \n",
    "    main(BUSTEDSMH_File, BUSTEDS_File)"
   ]
  },
  {
   "cell_type": "code",
   "execution_count": 48,
   "id": "04c704be-f525-41a7-bf64-3d9a064ff4a9",
   "metadata": {},
   "outputs": [
    {
     "data": {
      "text/plain": [
       "pandas.core.frame.DataFrame"
      ]
     },
     "execution_count": 48,
     "metadata": {},
     "output_type": "execute_result"
    }
   ],
   "source": [
    "type(result)\n"
   ]
  },
  {
   "cell_type": "code",
   "execution_count": null,
   "id": "78555c1d-e298-4444-b210-a72bbc9b2163",
   "metadata": {},
   "outputs": [],
   "source": []
  },
  {
   "cell_type": "code",
   "execution_count": null,
   "id": "a3da7698-0886-4b6a-a734-722baac49c90",
   "metadata": {},
   "outputs": [],
   "source": []
  }
 ],
 "metadata": {
  "kernelspec": {
   "display_name": "Python 3",
   "language": "python",
   "name": "python3"
  },
  "language_info": {
   "codemirror_mode": {
    "name": "ipython",
    "version": 3
   },
   "file_extension": ".py",
   "mimetype": "text/x-python",
   "name": "python",
   "nbconvert_exporter": "python",
   "pygments_lexer": "ipython3",
   "version": "3.9.1"
  }
 },
 "nbformat": 4,
 "nbformat_minor": 5
}
