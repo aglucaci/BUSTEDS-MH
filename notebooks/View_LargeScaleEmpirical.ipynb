{
 "cells": [
  {
   "cell_type": "code",
   "execution_count": 1,
   "id": "considerable-slovakia",
   "metadata": {},
   "outputs": [],
   "source": [
    "import pandas as pd\n",
    "import plotly.express as px\n",
    "from prettytable import PrettyTable\n",
    "import plotly.graph_objects as go\n",
    "import numpy as np\n",
    "import random\n",
    "import csv\n",
    "import os\n",
    "import json\n",
    "from tqdm import tqdm\n",
    "import math\n",
    "from scipy.stats import wasserstein_distance\n",
    "from pathlib import Path\n",
    "from os.path import exists"
   ]
  },
  {
   "cell_type": "code",
   "execution_count": 2,
   "id": "interpreted-tuition",
   "metadata": {},
   "outputs": [],
   "source": [
    "# Local on Windows 10 box\n",
    "WD = os.path.join(\"E:\\\\\", \"BUSTEDS-MH-develop\")\n",
    "\n",
    "#\"Empirical_14_datasets\"\n",
    "tags = [\"Empirical_Unmasked_Selectome_v6\", \"Empirical_Enard\", \n",
    "        \"Empirical_mtDNA_Invertebrate\", \"Empirical_mtDNA_Vertebrate\", \n",
    "        \"Empirical_Selectome_v7_Euteleostomi_unmasked\", \"Empirical_Shultz\" ]\n",
    "\n",
    "ER_Threshold = 5\n",
    "\n",
    "df_dict = {}\n"
   ]
  },
  {
   "cell_type": "code",
   "execution_count": 3,
   "id": "combined-reverse",
   "metadata": {},
   "outputs": [],
   "source": [
    "def get_results(df):\n",
    "    # “--” Datasets where both BUSTED[S] and BUSTED[S]-MH fail.\n",
    "    # “++” datasets where both BUSTED[S] and BUSTED[S]-MH succeed.\n",
    "    # “+-” datasets where BUSTED[S] succeeds and BUSTED[S]-MH fails. \n",
    "    # “-+” datasets where BUSTED[S] fails and BUSTED[S]-MH succeeds. \n",
    "\n",
    "    # Counts\n",
    "    _minus_minus = 0\n",
    "    _minus_plus  = 0 \n",
    "    _plus_minus  = 0\n",
    "    _plus_plus   = 0\n",
    "    \n",
    "    #N = df.shape[0] / 2\n",
    "    \n",
    "    df_MH = df[df[\"Method\"] == \"BUSTEDS-MH\"]\n",
    "    \n",
    "    for index, row in tqdm(df_MH.iterrows()):\n",
    "        gene = row[\"Gene\"]\n",
    "        df_h = df[df[\"Gene\"] == gene] # This has Both BS and BSMH\n",
    "        \n",
    "        BUSTEDS    = df_h[df_h[\"Method\"] == \"BUSTEDS\"]\n",
    "        BUSTEDS_MH = df_h[df_h[\"Method\"] == \"BUSTEDS-MH\"]\n",
    "        \n",
    "        # Get data ---\n",
    "        # BUSTEDS    LRT p-value\n",
    "        # BUSTEDS    w3\n",
    "        # BUSTEDS    p3\n",
    "        # BUSTEDS    cAIC\n",
    "        BS_pval = BUSTEDS[\"LRT p-value\"]\n",
    "        BS_w3   = BUSTEDS[\"w3\"]\n",
    "        BS_p3   = BUSTEDS[\"p3\"]\n",
    "        BS_cAIC = BUSTEDS[\"cAIC\"]\n",
    "        \n",
    "        # BUSTEDS-MH  LRT p-value\n",
    "        # BUSTEDS-MH  w3\n",
    "        # BUSTEDS-MH  p3\n",
    "        # BUSTEDS-MH  cAIC  \n",
    "        # BUSTEDS-MH DH_Rate\n",
    "        # BUSTEDS-MH TH_Rate\n",
    "        BSMH_pval    = BUSTEDS_MH[\"LRT p-value\"]\n",
    "        BSMH_w3      = BUSTEDS_MH[\"w3\"]\n",
    "        BSMH_p3      = BUSTEDS_MH[\"p3\"]\n",
    "        BSMH_cAIC    = BUSTEDS_MH[\"cAIC\"]\n",
    "        #BSMH_DH_Rate = BUSTEDS_MH[\"DH_Rate\"]\n",
    "        #BSMH_TH_Rate = BUSTEDS_MH[\"TH_Rate\"]\n",
    "        \n",
    "        # Make calculcations ---\n",
    "        \n",
    "        try:\n",
    "            BS_pval = float(BS_pval)\n",
    "            BSMH_pval = float(BSMH_pval)\n",
    "        except:\n",
    "            continue\n",
    "        #end try\n",
    "        \n",
    "        if float(BS_pval) > 0.05 and float(BSMH_pval) > 0.05:\n",
    "            _minus_minus += 1\n",
    "        \n",
    "        if float(BS_pval) <= 0.05 and float(BSMH_pval) > 0.05:\n",
    "            _plus_minus += 1 \n",
    "        \n",
    "        if float(BS_pval) > 0.05 and float(BSMH_pval) <= 0.05:\n",
    "            _minus_plus += 1 \n",
    "        \n",
    "        if float(BS_pval) <= 0.05 and float(BSMH_pval) <= 0.05:\n",
    "            _plus_plus += 1\n",
    "        \n",
    "    #end for\n",
    "        \n",
    "    N = _minus_minus + _plus_minus + _minus_plus + _plus_plus\n",
    "    df_BUSTEDSMH = df[df[\"Method\"] == \"BUSTEDS-MH\"]\n",
    "    DH_RATE = df_BUSTEDSMH[\"DH_Rate\"].mean()       \n",
    "    DH_RATE_STD = df_BUSTEDSMH[\"DH_Rate\"].std()   \n",
    "                      \n",
    "    TH_RATE = df_BUSTEDSMH[\"TH_Rate\"].mean()         \n",
    "    TH_RATE_STD = df_BUSTEDSMH[\"TH_Rate\"].std()    \n",
    "        \n",
    "    return (_minus_minus / N), (_plus_minus / N), (_minus_plus / N), (_plus_plus / N), N, DH_RATE, DH_RATE_STD, TH_RATE, TH_RATE_STD"
   ]
  },
  {
   "cell_type": "code",
   "execution_count": 7,
   "id": "changing-vitamin",
   "metadata": {},
   "outputs": [
    {
     "name": "stdout",
     "output_type": "stream",
     "text": [
      "# Processing files in: Empirical_Unmasked_Selectome_v6\n"
     ]
    },
    {
     "name": "stderr",
     "output_type": "stream",
     "text": [
      "13299it [00:39, 333.51it/s]\n"
     ]
    },
    {
     "name": "stdout",
     "output_type": "stream",
     "text": [
      "# Processing files in: Empirical_Enard\n"
     ]
    },
    {
     "name": "stderr",
     "output_type": "stream",
     "text": [
      "8396it [00:18, 442.63it/s]\n"
     ]
    },
    {
     "name": "stdout",
     "output_type": "stream",
     "text": [
      "# Processing files in: Empirical_mtDNA_Invertebrate\n"
     ]
    },
    {
     "name": "stderr",
     "output_type": "stream",
     "text": [
      "262it [00:00, 543.86it/s]\n"
     ]
    },
    {
     "name": "stdout",
     "output_type": "stream",
     "text": [
      "# Processing files in: Empirical_mtDNA_Vertebrate\n"
     ]
    },
    {
     "name": "stderr",
     "output_type": "stream",
     "text": [
      "435it [00:00, 622.20it/s]\n"
     ]
    },
    {
     "name": "stdout",
     "output_type": "stream",
     "text": [
      "# Processing files in: Empirical_Selectome_v7_Euteleostomi_unmasked\n"
     ]
    },
    {
     "name": "stderr",
     "output_type": "stream",
     "text": [
      "13077it [00:37, 346.86it/s]\n"
     ]
    },
    {
     "name": "stdout",
     "output_type": "stream",
     "text": [
      "# Processing files in: Empirical_Shultz\n"
     ]
    },
    {
     "name": "stderr",
     "output_type": "stream",
     "text": [
      "11266it [00:30, 368.16it/s]\n"
     ]
    }
   ],
   "source": [
    "df_dict = {}\n",
    "for n, dataset in enumerate(tags):\n",
    "    \n",
    "    # Get Table\n",
    "    CSV_File = os.path.join(WD, \"tables\", \"Table_\" + dataset.upper() + \".csv\")\n",
    "    \n",
    "    if exists(CSV_File) == False:\n",
    "        continue\n",
    "    #end if\n",
    "    \n",
    "    print(\"# Processing files in:\", dataset)\n",
    "    \n",
    "    df_empirical_table = pd.read_csv(CSV_File)  \n",
    "    \n",
    "    #N =  df_empirical_table.shape[0] / 2\n",
    "    #print(\"Number of items:\", N)\n",
    "    #if N.is_integer() == False:\n",
    "    #    print(\"# Not an even about of files\")\n",
    "    #    break\n",
    "    #end if\n",
    "    \n",
    "    x = 1\n",
    "    _minus_minus, _plus_minus, _minus_plus, _plus_plus, N,  DH_RATE, DH_RATE_STD, TH_RATE, TH_RATE_STD = get_results(df_empirical_table)\n",
    "    \n",
    "    df_dict[n + 1] = {\"Dataset\": dataset,\n",
    "                      \"N\":  N, \n",
    "                      \"Fraction. All Data (--)\": _minus_minus,\n",
    "                      \"Fraction. All Data (-+)\": _minus_plus,\n",
    "                      \"Fraction. All Data (+-)\": _plus_minus,\n",
    "                      \"Fraction. All Data (++)\": _plus_plus,\n",
    "                      \"Average DH Rate\": DH_RATE,\n",
    "                      \"Std DH Rate\": DH_RATE_STD,\n",
    "                      \"Average TH Rate\": TH_RATE,\n",
    "                      \"Std TH Rate\": TH_RATE_STD\n",
    "\n",
    "                     }\n",
    "    \n",
    "     "
   ]
  },
  {
   "cell_type": "code",
   "execution_count": 9,
   "id": "virgin-feedback",
   "metadata": {
    "scrolled": true
   },
   "outputs": [
    {
     "data": {
      "text/html": [
       "<div>\n",
       "<style scoped>\n",
       "    .dataframe tbody tr th:only-of-type {\n",
       "        vertical-align: middle;\n",
       "    }\n",
       "\n",
       "    .dataframe tbody tr th {\n",
       "        vertical-align: top;\n",
       "    }\n",
       "\n",
       "    .dataframe thead th {\n",
       "        text-align: right;\n",
       "    }\n",
       "</style>\n",
       "<table border=\"1\" class=\"dataframe\">\n",
       "  <thead>\n",
       "    <tr style=\"text-align: right;\">\n",
       "      <th></th>\n",
       "      <th>Dataset</th>\n",
       "      <th>N</th>\n",
       "      <th>Fraction. All Data (--)</th>\n",
       "      <th>Fraction. All Data (-+)</th>\n",
       "      <th>Fraction. All Data (+-)</th>\n",
       "      <th>Fraction. All Data (++)</th>\n",
       "      <th>Average DH Rate</th>\n",
       "      <th>Std DH Rate</th>\n",
       "      <th>Average TH Rate</th>\n",
       "      <th>Std TH Rate</th>\n",
       "    </tr>\n",
       "  </thead>\n",
       "  <tbody>\n",
       "    <tr>\n",
       "      <th>1</th>\n",
       "      <td>Empirical_Unmasked_Selectome_v6</td>\n",
       "      <td>13298</td>\n",
       "      <td>0.846518</td>\n",
       "      <td>0.001504</td>\n",
       "      <td>0.126410</td>\n",
       "      <td>0.025568</td>\n",
       "      <td>0.103614</td>\n",
       "      <td>0.229895</td>\n",
       "      <td>0.268527</td>\n",
       "      <td>3.235368</td>\n",
       "    </tr>\n",
       "    <tr>\n",
       "      <th>2</th>\n",
       "      <td>Empirical_Enard</td>\n",
       "      <td>8392</td>\n",
       "      <td>0.712703</td>\n",
       "      <td>0.001668</td>\n",
       "      <td>0.187679</td>\n",
       "      <td>0.097950</td>\n",
       "      <td>0.021710</td>\n",
       "      <td>0.053984</td>\n",
       "      <td>0.057366</td>\n",
       "      <td>0.983089</td>\n",
       "    </tr>\n",
       "    <tr>\n",
       "      <th>3</th>\n",
       "      <td>Empirical_mtDNA_Invertebrate</td>\n",
       "      <td>262</td>\n",
       "      <td>0.908397</td>\n",
       "      <td>0.003817</td>\n",
       "      <td>0.049618</td>\n",
       "      <td>0.038168</td>\n",
       "      <td>0.326892</td>\n",
       "      <td>0.444248</td>\n",
       "      <td>0.388575</td>\n",
       "      <td>1.873997</td>\n",
       "    </tr>\n",
       "    <tr>\n",
       "      <th>4</th>\n",
       "      <td>Empirical_mtDNA_Vertebrate</td>\n",
       "      <td>435</td>\n",
       "      <td>0.910345</td>\n",
       "      <td>0.002299</td>\n",
       "      <td>0.039080</td>\n",
       "      <td>0.048276</td>\n",
       "      <td>0.247818</td>\n",
       "      <td>0.347248</td>\n",
       "      <td>0.744776</td>\n",
       "      <td>2.085995</td>\n",
       "    </tr>\n",
       "    <tr>\n",
       "      <th>5</th>\n",
       "      <td>Empirical_Selectome_v7_Euteleostomi_unmasked</td>\n",
       "      <td>13077</td>\n",
       "      <td>0.341592</td>\n",
       "      <td>0.004665</td>\n",
       "      <td>0.519844</td>\n",
       "      <td>0.133899</td>\n",
       "      <td>0.130630</td>\n",
       "      <td>0.150858</td>\n",
       "      <td>1.270566</td>\n",
       "      <td>88.308701</td>\n",
       "    </tr>\n",
       "    <tr>\n",
       "      <th>6</th>\n",
       "      <td>Empirical_Shultz</td>\n",
       "      <td>11264</td>\n",
       "      <td>0.586115</td>\n",
       "      <td>0.001332</td>\n",
       "      <td>0.334251</td>\n",
       "      <td>0.078303</td>\n",
       "      <td>0.120565</td>\n",
       "      <td>7.206163</td>\n",
       "      <td>0.335061</td>\n",
       "      <td>13.146716</td>\n",
       "    </tr>\n",
       "  </tbody>\n",
       "</table>\n",
       "</div>"
      ],
      "text/plain": [
       "                                        Dataset      N  \\\n",
       "1               Empirical_Unmasked_Selectome_v6  13298   \n",
       "2                               Empirical_Enard   8392   \n",
       "3                  Empirical_mtDNA_Invertebrate    262   \n",
       "4                    Empirical_mtDNA_Vertebrate    435   \n",
       "5  Empirical_Selectome_v7_Euteleostomi_unmasked  13077   \n",
       "6                              Empirical_Shultz  11264   \n",
       "\n",
       "   Fraction. All Data (--)  Fraction. All Data (-+)  Fraction. All Data (+-)  \\\n",
       "1                 0.846518                 0.001504                 0.126410   \n",
       "2                 0.712703                 0.001668                 0.187679   \n",
       "3                 0.908397                 0.003817                 0.049618   \n",
       "4                 0.910345                 0.002299                 0.039080   \n",
       "5                 0.341592                 0.004665                 0.519844   \n",
       "6                 0.586115                 0.001332                 0.334251   \n",
       "\n",
       "   Fraction. All Data (++)  Average DH Rate  Std DH Rate  Average TH Rate  \\\n",
       "1                 0.025568         0.103614     0.229895         0.268527   \n",
       "2                 0.097950         0.021710     0.053984         0.057366   \n",
       "3                 0.038168         0.326892     0.444248         0.388575   \n",
       "4                 0.048276         0.247818     0.347248         0.744776   \n",
       "5                 0.133899         0.130630     0.150858         1.270566   \n",
       "6                 0.078303         0.120565     7.206163         0.335061   \n",
       "\n",
       "   Std TH Rate  \n",
       "1     3.235368  \n",
       "2     0.983089  \n",
       "3     1.873997  \n",
       "4     2.085995  \n",
       "5    88.308701  \n",
       "6    13.146716  "
      ]
     },
     "execution_count": 9,
     "metadata": {},
     "output_type": "execute_result"
    }
   ],
   "source": [
    "# All data, How many are --, -+. +-, ++, at p<0.05\n",
    "# When MH is the preferred model by AIC >= 5, How many are --, -+. +-, ++, at p<0.05\n",
    "# When SH is the preferred model by AIC >= 5, How many are --, -+. +-, ++, at p<0.05\n",
    "\n",
    "df = pd.DataFrame.from_dict(df_dict, orient=\"index\")\n",
    "df"
   ]
  },
  {
   "cell_type": "code",
   "execution_count": 10,
   "id": "polar-improvement",
   "metadata": {},
   "outputs": [
    {
     "name": "stdout",
     "output_type": "stream",
     "text": [
      "\\begin{tabular}{lrrrrrrrrr}\n",
      "\\toprule\n",
      "                                     Dataset &     N &  Fraction. All Data (--) &  Fraction. All Data (-+) &  Fraction. All Data (+-) &  Fraction. All Data (++) &  Average DH Rate &  Std DH Rate &  Average TH Rate &  Std TH Rate \\\\\n",
      "\\midrule\n",
      "             Empirical\\_Unmasked\\_Selectome\\_v6 & 13298 &                 0.846518 &                 0.001504 &                 0.126410 &                 0.025568 &         0.103614 &     0.229895 &         0.268527 &     3.235368 \\\\\n",
      "                             Empirical\\_Enard &  8392 &                 0.712703 &                 0.001668 &                 0.187679 &                 0.097950 &         0.021710 &     0.053984 &         0.057366 &     0.983089 \\\\\n",
      "                Empirical\\_mtDNA\\_Invertebrate &   262 &                 0.908397 &                 0.003817 &                 0.049618 &                 0.038168 &         0.326892 &     0.444248 &         0.388575 &     1.873997 \\\\\n",
      "                  Empirical\\_mtDNA\\_Vertebrate &   435 &                 0.910345 &                 0.002299 &                 0.039080 &                 0.048276 &         0.247818 &     0.347248 &         0.744776 &     2.085995 \\\\\n",
      "Empirical\\_Selectome\\_v7\\_Euteleostomi\\_unmasked & 13077 &                 0.341592 &                 0.004665 &                 0.519844 &                 0.133899 &         0.130630 &     0.150858 &         1.270566 &    88.308701 \\\\\n",
      "                            Empirical\\_Shultz & 11264 &                 0.586115 &                 0.001332 &                 0.334251 &                 0.078303 &         0.120565 &     7.206163 &         0.335061 &    13.146716 \\\\\n",
      "\\bottomrule\n",
      "\\end{tabular}\n",
      "\n"
     ]
    }
   ],
   "source": [
    "print(df.to_latex(index=False))  "
   ]
  },
  {
   "cell_type": "code",
   "execution_count": null,
   "id": "million-spectrum",
   "metadata": {},
   "outputs": [],
   "source": []
  },
  {
   "cell_type": "code",
   "execution_count": null,
   "id": "identified-tourist",
   "metadata": {},
   "outputs": [],
   "source": []
  }
 ],
 "metadata": {
  "kernelspec": {
   "display_name": "Python 3",
   "language": "python",
   "name": "python3"
  },
  "language_info": {
   "codemirror_mode": {
    "name": "ipython",
    "version": 3
   },
   "file_extension": ".py",
   "mimetype": "text/x-python",
   "name": "python",
   "nbconvert_exporter": "python",
   "pygments_lexer": "ipython3",
   "version": "3.9.1"
  }
 },
 "nbformat": 4,
 "nbformat_minor": 5
}
