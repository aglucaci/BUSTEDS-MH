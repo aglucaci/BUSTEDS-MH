{
 "cells": [
  {
   "cell_type": "code",
   "execution_count": 1,
   "id": "caa05e5e",
   "metadata": {},
   "outputs": [],
   "source": [
    "# Imports\n",
    "import pandas as pd\n",
    "import plotly.express as px\n",
    "from prettytable import PrettyTable\n",
    "import plotly.graph_objects as go\n",
    "import numpy as np\n",
    "import random\n",
    "import csv\n",
    "import os\n",
    "import json\n",
    "from tqdm import tqdm\n",
    "import altair as alt\n"
   ]
  },
  {
   "cell_type": "code",
   "execution_count": 30,
   "id": "8c4753cc",
   "metadata": {
    "scrolled": true
   },
   "outputs": [
    {
     "name": "stdout",
     "output_type": "stream",
     "text": [
      "E:\\BUSTEDS-MH\\analysis\\simulations-shultz-sackton\n",
      "E:\\BUSTEDS-MH\\analysis\\simulations-shultz-sackton\\null-0.0\n",
      "E:\\BUSTEDS-MH\\analysis\\simulations-shultz-sackton\\null-0.0\\BUSTEDS\n",
      "E:\\BUSTEDS-MH\\analysis\\simulations-shultz-sackton\\null-0.0\\BUSTEDS-MH\n",
      "E:\\BUSTEDS-MH\\analysis\\simulations-shultz-sackton\\null-0.25\n",
      "E:\\BUSTEDS-MH\\analysis\\simulations-shultz-sackton\\null-0.25\\BUSTEDS\n",
      "E:\\BUSTEDS-MH\\analysis\\simulations-shultz-sackton\\null-0.25\\BUSTEDS-MH\n",
      "E:\\BUSTEDS-MH\\analysis\\simulations-shultz-sackton\\null-0.5\n",
      "E:\\BUSTEDS-MH\\analysis\\simulations-shultz-sackton\\null-0.5\\BUSTEDS\n",
      "E:\\BUSTEDS-MH\\analysis\\simulations-shultz-sackton\\null-0.5\\BUSTEDS-MH\n",
      "E:\\BUSTEDS-MH\\analysis\\simulations-shultz-sackton\\null-2.0\n",
      "E:\\BUSTEDS-MH\\analysis\\simulations-shultz-sackton\\null-2.0\\BUSTEDS\n",
      "E:\\BUSTEDS-MH\\analysis\\simulations-shultz-sackton\\null-2.0\\BUSTEDS-MH\n",
      "E:\\BUSTEDS-MH\\analysis\\simulations-shultz-sackton\\null-2.3\n",
      "E:\\BUSTEDS-MH\\analysis\\simulations-shultz-sackton\\null-2.3\\BUSTEDS\n",
      "E:\\BUSTEDS-MH\\analysis\\simulations-shultz-sackton\\null-2.3\\BUSTEDS-MH\n",
      "E:\\BUSTEDS-MH\\analysis\\simulations-shultz-sackton\\null-3.4\n",
      "E:\\BUSTEDS-MH\\analysis\\simulations-shultz-sackton\\null-3.4\\BUSTEDS\n",
      "E:\\BUSTEDS-MH\\analysis\\simulations-shultz-sackton\\null-3.4\\BUSTEDS-MH\n",
      "E:\\BUSTEDS-MH\\analysis\\simulations-shultz-sackton\\null-large\n",
      "E:\\BUSTEDS-MH\\analysis\\simulations-shultz-sackton\\null-large\\BUSTEDS\n",
      "E:\\BUSTEDS-MH\\analysis\\simulations-shultz-sackton\\null-large\\BUSTEDS-MH\n"
     ]
    }
   ],
   "source": [
    "# Local on Windows 10 box\n",
    "WD = os.path.join(\"E:\\\\\", \"BUSTEDS-MH\")\n",
    "\n",
    "tag = \"simulations-shultz-sackton\"\n",
    "\n",
    "# Additional declares\n",
    "#BUSTEDS_DIR = os.path.join(WD, \"analysis\", tag, \"BUSTEDS\")\n",
    "#BUSTEDS_MH_DIR = os.path.join(WD, \"analysis\", tag, \"BUSTEDS-MH\")\n",
    "\n",
    "OUTPUT_CSV = os.path.join(WD, \"tables\", \"Table_\" + tag.upper() + \"_BUSTEDS_and_BUSTEDS-MH.csv\")\n",
    "\n",
    "rootdir = os.path.join(WD,\"analysis\", tag)\n",
    "\n",
    "CV_a_values = [0.0, 0.25, 0.5, 2.0, 2.3, 3.4]\n",
    "\n",
    "for subdir, dirs, files in os.walk(rootdir):\n",
    "    #print(subdir, dirs, files)\n",
    "    #if \"BUSTEDS\" in str(subdir) or \"BUSTEDS-MH\" in str(subdir): \n",
    "    #    continue\n",
    "    print(subdir)\n",
    "    #print(dirs)\n",
    "    \n",
    "Data_Directories = {r\"E:\\BUSTEDS-MH\\analysis\\simulations-shultz-sackton\\null-0.0\": 0.0,\n",
    "                   r\"E:\\BUSTEDS-MH\\analysis\\simulations-shultz-sackton\\null-0.25\": 0.25,\n",
    "                   r\"E:\\BUSTEDS-MH\\analysis\\simulations-shultz-sackton\\null-0.5\": 0.5,\n",
    "                   r\"E:\\BUSTEDS-MH\\analysis\\simulations-shultz-sackton\\null-2.0\": 2.0,\n",
    "                   r\"E:\\BUSTEDS-MH\\analysis\\simulations-shultz-sackton\\null-2.3\": 2.3,\n",
    "                   r\"E:\\BUSTEDS-MH\\analysis\\simulations-shultz-sackton\\null-3.4\": 3.4}"
   ]
  },
  {
   "cell_type": "code",
   "execution_count": 17,
   "id": "numeric-block",
   "metadata": {},
   "outputs": [],
   "source": [
    "def read_json(filename):\n",
    "    #print(\"# Reading:\", filename)\n",
    "    if os.stat(filename).st_size == 0: \n",
    "        print(\"# -- Error -- file is empty:\", filename)\n",
    "        return []\n",
    "    #end if\n",
    "    with open(filename, \"r\") as fh:\n",
    "        json_data = json.load(fh)\n",
    "    fh.close()\n",
    "    return json_data\n",
    "#end method\n",
    "\n",
    "# Lambda function\n",
    "\n",
    "cv = lambda x: np.std(x) / np.mean(x)"
   ]
  },
  {
   "cell_type": "code",
   "execution_count": 41,
   "id": "e6230b08",
   "metadata": {},
   "outputs": [],
   "source": [
    "def process(directory, method, ER_Threshold=5, sims=\"\", cva=\"\"):\n",
    "    print(\"# Processing:\", directory)\n",
    "    # Search for files\n",
    "    DIR_JSONS = [os.path.join(directory, file.name) \n",
    "                 for file in os.scandir(directory) \n",
    "                 if file.name.endswith(\".json\")]\n",
    "    print(\"# Number of JSON results:\", len(DIR_JSONS))\n",
    "    df_dict = {}\n",
    "    # Read json file\n",
    "    for item in tqdm(DIR_JSONS):\n",
    "        if method == \"BUSTEDS-MH\":\n",
    "            basename = os.path.basename(item).replace(\".BUSTEDS-MH.json\", \"\")\n",
    "        elif method == \"BUSTEDS\":\n",
    "            basename = os.path.basename(item).replace(\".BUSTEDS.json\", \"\")\n",
    "        else:\n",
    "            pass\n",
    "        #end if\n",
    "        json_data = read_json(item) # Read \n",
    "        if json_data == []: continue # Empty file\n",
    "        df_dict[basename] = {\"Method\": method}\n",
    "        df_dict[basename].update({\"Simulation\": sims})\n",
    "        df_dict[basename].update({\"Sequences\": json_data[\"input\"][\"number of sequences\"]})\n",
    "        df_dict[basename].update({\"Codons\": json_data[\"input\"][\"number of sites\"]})\n",
    "        df_dict[basename].update({\"LRT p-value\": json_data[\"test results\"][\"p-value\"]})\n",
    "        df_dict[basename].update({\"cAIC\": json_data[\"fits\"][\"Unconstrained model\"][\"AIC-c\"]})  # cAIC\n",
    "        data = json_data[\"fits\"][\"Unconstrained model\"][\"Rate Distributions\"][\"Test\"] #Omegas and proportions\n",
    "        w1 = round(data[\"0\"][\"omega\"], 4)\n",
    "        p1 = round(data[\"0\"][\"proportion\"], 4)\n",
    "        w2 = round(data[\"1\"][\"omega\"], 4)\n",
    "        p2 = round(data[\"1\"][\"proportion\"], 4)\n",
    "        w3 = round(data[\"2\"][\"omega\"], 4)\n",
    "        p3 = round(data[\"2\"][\"proportion\"], 4)\n",
    "        df_dict[basename].update({\"w1\": w1, \"p1\": p1})\n",
    "        df_dict[basename].update({\"w2\": w2, \"p2\": p2})\n",
    "        df_dict[basename].update({\"w3\": w3, \"p3\": p3})\n",
    "        df_dict[basename].update({\"CV(omega)\": cv([w1, w2, w3])})\n",
    "        data = json_data[\"fits\"][\"Unconstrained model\"][\"Rate Distributions\"][\"Synonymous site-to-site rates\"] # SRV rates and proportions\n",
    "        s1 = round(data[\"0\"][\"rate\"], 4)\n",
    "        s_p1 = round(data[\"0\"][\"proportion\"], 4)\n",
    "        s2 = round(data[\"1\"][\"rate\"], 4)\n",
    "        s_p2 = round(data[\"1\"][\"proportion\"], 4)\n",
    "        s3 = round(data[\"2\"][\"rate\"], 4)\n",
    "        s_p3 = round(data[\"2\"][\"proportion\"], 4)\n",
    "        df_dict[basename].update({\"SRV1\": s1, \"SRV_p1\": s_p1})\n",
    "        df_dict[basename].update({\"SRV2\": s2, \"SRV_p2\": s_p2})\n",
    "        df_dict[basename].update({\"SRV3\": s3, \"SRV_p3\": s3})\n",
    "        df_dict[basename].update({\"CV(alpha)_calculated\": cv([s1, s2, s3])})\n",
    "        df_dict[basename].update({\"CV(alpha)_simulated\": cva})\n",
    "        if method == \"BUSTEDS-MH\":\n",
    "            df_dict[basename].update({\"DH_Rate\": float(json_data[\"fits\"][\"Unconstrained model\"] # DH rate, TH rate, TH_SI rate\n",
    "                                      [\"rate at which 2 nucleotides are changed instantly within a single codon\"])})\n",
    "            df_dict[basename].update({\"TH_Rate\": float(json_data[\"fits\"][\"Unconstrained model\"]\n",
    "                                      [\"rate at which 3 nucleotides are changed instantly within a single codon\"])})\n",
    "            df_dict[basename].update({\"TH_Rate_SI\": float(json_data[\"fits\"][\"Unconstrained model\"]\n",
    "                                      [\"rate at which 3 nucleotides are changed instantly within a single codon between synonymous codon islands\"])})\n",
    "        #end if\n",
    "        ER_SITES = [] # ER Sites, thresholded\n",
    "        ER_df_dict = {}\n",
    "        if \"constrained\" in json_data[\"Evidence Ratios\"].keys():\n",
    "            for site, val in enumerate(json_data[\"Evidence Ratios\"][\"constrained\"][0]):\n",
    "                if val > ER_Threshold:\n",
    "                    ER_SITES.append(str(site + 1))\n",
    "                    ER_df_dict[site + 1] = {method + \" ER\": val}\n",
    "                #end if\n",
    "            #end for\n",
    "            # add assert that there are more than 0 sites here.\n",
    "            df_dict[basename].update({method + \"_num_ER_Sites\":  len(ER_df_dict.keys())})\n",
    "            x = ER_df_dict.keys()\n",
    "            x = [str(x) for x in x]\n",
    "            df_dict[basename].update({method + \"_ER_Sites\":  \"|\".join(x)})\n",
    "        #end if  \n",
    "    #end for\n",
    "    # return a dataframe\n",
    "    df = pd.DataFrame.from_dict(df_dict, orient=\"index\")\n",
    "    df = df.reset_index()\n",
    "    df.index += 1\n",
    "    df.rename(columns={'index': 'Gene'}, inplace = True)\n",
    "    return df\n",
    "#end method\n",
    "\n",
    "#test_dir = r\"E:\\BUSTEDS-MH\\analysis\\simulations-shultz-sackton\\null-0.0\\BUSTEDS-MH\"\n",
    "#df_h = process(test_dir, \"BUSTEDS-MH\")\n",
    "# I need the fraction under selection (FPR) at\n",
    "##num_FP_p0_05 = df_h[df_h[\"LRT p-value\"] <= 0.05].shape[0]\n",
    "#print(num_FP_p0_05)\n"
   ]
  },
  {
   "cell_type": "code",
   "execution_count": 46,
   "id": "meaningful-meaning",
   "metadata": {},
   "outputs": [
    {
     "name": "stdout",
     "output_type": "stream",
     "text": [
      "E:\\BUSTEDS-MH\\analysis\\simulations-shultz-sackton\\null-0.0 0.0 null-0.0\n",
      "# Processing: E:\\BUSTEDS-MH\\analysis\\simulations-shultz-sackton\\null-0.0\\BUSTEDS-MH\n",
      "# Number of JSON results: 1579\n"
     ]
    },
    {
     "name": "stderr",
     "output_type": "stream",
     "text": [
      "100%|██████████████████████████████████████████████████████████████████████████████| 1579/1579 [00:29<00:00, 53.01it/s]\n"
     ]
    },
    {
     "name": "stdout",
     "output_type": "stream",
     "text": [
      "# Processing: E:\\BUSTEDS-MH\\analysis\\simulations-shultz-sackton\\null-0.0\\BUSTEDS\n",
      "# Number of JSON results: 1579\n"
     ]
    },
    {
     "name": "stderr",
     "output_type": "stream",
     "text": [
      "100%|██████████████████████████████████████████████████████████████████████████████| 1579/1579 [01:12<00:00, 21.77it/s]\n"
     ]
    },
    {
     "name": "stdout",
     "output_type": "stream",
     "text": [
      "E:\\BUSTEDS-MH\\analysis\\simulations-shultz-sackton\\null-0.25 0.25 null-0.25\n",
      "# Processing: E:\\BUSTEDS-MH\\analysis\\simulations-shultz-sackton\\null-0.25\\BUSTEDS-MH\n",
      "# Number of JSON results: 70\n"
     ]
    },
    {
     "name": "stderr",
     "output_type": "stream",
     "text": [
      "100%|██████████████████████████████████████████████████████████████████████████████████| 70/70 [00:03<00:00, 23.15it/s]\n"
     ]
    },
    {
     "name": "stdout",
     "output_type": "stream",
     "text": [
      "# Processing: E:\\BUSTEDS-MH\\analysis\\simulations-shultz-sackton\\null-0.25\\BUSTEDS\n",
      "# Number of JSON results: 70\n"
     ]
    },
    {
     "name": "stderr",
     "output_type": "stream",
     "text": [
      "100%|██████████████████████████████████████████████████████████████████████████████████| 70/70 [00:02<00:00, 28.51it/s]\n"
     ]
    },
    {
     "name": "stdout",
     "output_type": "stream",
     "text": [
      "E:\\BUSTEDS-MH\\analysis\\simulations-shultz-sackton\\null-0.5 0.5 null-0.5\n",
      "# Processing: E:\\BUSTEDS-MH\\analysis\\simulations-shultz-sackton\\null-0.5\\BUSTEDS-MH\n",
      "# Number of JSON results: 150\n"
     ]
    },
    {
     "name": "stderr",
     "output_type": "stream",
     "text": [
      "100%|████████████████████████████████████████████████████████████████████████████████| 150/150 [00:05<00:00, 26.26it/s]\n"
     ]
    },
    {
     "name": "stdout",
     "output_type": "stream",
     "text": [
      "# Processing: E:\\BUSTEDS-MH\\analysis\\simulations-shultz-sackton\\null-0.5\\BUSTEDS\n",
      "# Number of JSON results: 150\n"
     ]
    },
    {
     "name": "stderr",
     "output_type": "stream",
     "text": [
      "100%|████████████████████████████████████████████████████████████████████████████████| 150/150 [00:05<00:00, 25.36it/s]\n"
     ]
    },
    {
     "name": "stdout",
     "output_type": "stream",
     "text": [
      "E:\\BUSTEDS-MH\\analysis\\simulations-shultz-sackton\\null-2.0 2.0 null-2.0\n",
      "# Processing: E:\\BUSTEDS-MH\\analysis\\simulations-shultz-sackton\\null-2.0\\BUSTEDS-MH\n",
      "# Number of JSON results: 438\n"
     ]
    },
    {
     "name": "stderr",
     "output_type": "stream",
     "text": [
      "100%|████████████████████████████████████████████████████████████████████████████████| 438/438 [00:15<00:00, 29.14it/s]\n"
     ]
    },
    {
     "name": "stdout",
     "output_type": "stream",
     "text": [
      "# Processing: E:\\BUSTEDS-MH\\analysis\\simulations-shultz-sackton\\null-2.0\\BUSTEDS\n",
      "# Number of JSON results: 438\n"
     ]
    },
    {
     "name": "stderr",
     "output_type": "stream",
     "text": [
      "100%|████████████████████████████████████████████████████████████████████████████████| 438/438 [00:15<00:00, 27.60it/s]\n"
     ]
    },
    {
     "name": "stdout",
     "output_type": "stream",
     "text": [
      "E:\\BUSTEDS-MH\\analysis\\simulations-shultz-sackton\\null-2.3 2.3 null-2.3\n",
      "# Processing: E:\\BUSTEDS-MH\\analysis\\simulations-shultz-sackton\\null-2.3\\BUSTEDS-MH\n",
      "# Number of JSON results: 921\n"
     ]
    },
    {
     "name": "stderr",
     "output_type": "stream",
     "text": [
      "100%|████████████████████████████████████████████████████████████████████████████████| 921/921 [00:32<00:00, 28.36it/s]\n"
     ]
    },
    {
     "name": "stdout",
     "output_type": "stream",
     "text": [
      "# Processing: E:\\BUSTEDS-MH\\analysis\\simulations-shultz-sackton\\null-2.3\\BUSTEDS\n",
      "# Number of JSON results: 922\n"
     ]
    },
    {
     "name": "stderr",
     "output_type": "stream",
     "text": [
      "100%|████████████████████████████████████████████████████████████████████████████████| 922/922 [00:33<00:00, 27.87it/s]\n"
     ]
    },
    {
     "name": "stdout",
     "output_type": "stream",
     "text": [
      "E:\\BUSTEDS-MH\\analysis\\simulations-shultz-sackton\\null-3.4 3.4 null-3.4\n",
      "# Processing: E:\\BUSTEDS-MH\\analysis\\simulations-shultz-sackton\\null-3.4\\BUSTEDS-MH\n",
      "# Number of JSON results: 40\n"
     ]
    },
    {
     "name": "stderr",
     "output_type": "stream",
     "text": [
      "100%|██████████████████████████████████████████████████████████████████████████████████| 40/40 [00:01<00:00, 26.72it/s]\n"
     ]
    },
    {
     "name": "stdout",
     "output_type": "stream",
     "text": [
      "# Processing: E:\\BUSTEDS-MH\\analysis\\simulations-shultz-sackton\\null-3.4\\BUSTEDS\n",
      "# Number of JSON results: 0\n"
     ]
    },
    {
     "name": "stderr",
     "output_type": "stream",
     "text": [
      "0it [00:00, ?it/s]\n"
     ]
    }
   ],
   "source": [
    "df_holder = []\n",
    "\n",
    "for k,v in Data_Directories.items():\n",
    "    print(k, v, os.path.basename(k))\n",
    "    #def process(directory, method, ER_Threshold=5, sim, cva):\n",
    "    for method in [\"BUSTEDS-MH\", \"BUSTEDS\"]:\n",
    "        #method = \"BUSTEDS-MH\"\n",
    "        datadir = os.path.join(k, method)\n",
    "        df_h = process(datadir, method, ER_Threshold=5, sims=os.path.basename(k), cva=v)\n",
    "        if df_h != []:\n",
    "            df_holder.append(df_h)\n",
    "    #break\n",
    "#end for\n"
   ]
  },
  {
   "cell_type": "code",
   "execution_count": 54,
   "id": "tutorial-regard",
   "metadata": {},
   "outputs": [
    {
     "data": {
      "text/html": [
       "<div>\n",
       "<style scoped>\n",
       "    .dataframe tbody tr th:only-of-type {\n",
       "        vertical-align: middle;\n",
       "    }\n",
       "\n",
       "    .dataframe tbody tr th {\n",
       "        vertical-align: top;\n",
       "    }\n",
       "\n",
       "    .dataframe thead th {\n",
       "        text-align: right;\n",
       "    }\n",
       "</style>\n",
       "<table border=\"1\" class=\"dataframe\">\n",
       "  <thead>\n",
       "    <tr style=\"text-align: right;\">\n",
       "      <th></th>\n",
       "      <th>Gene</th>\n",
       "      <th>Method</th>\n",
       "      <th>Simulation</th>\n",
       "      <th>Sequences</th>\n",
       "      <th>Codons</th>\n",
       "      <th>LRT p-value</th>\n",
       "      <th>cAIC</th>\n",
       "      <th>w1</th>\n",
       "      <th>p1</th>\n",
       "      <th>w2</th>\n",
       "      <th>...</th>\n",
       "      <th>SRV_p3</th>\n",
       "      <th>CV(alpha)_calculated</th>\n",
       "      <th>CV(alpha)_simulated</th>\n",
       "      <th>DH_Rate</th>\n",
       "      <th>TH_Rate</th>\n",
       "      <th>TH_Rate_SI</th>\n",
       "      <th>BUSTEDS-MH_num_ER_Sites</th>\n",
       "      <th>BUSTEDS-MH_ER_Sites</th>\n",
       "      <th>BUSTEDS_num_ER_Sites</th>\n",
       "      <th>BUSTEDS_ER_Sites</th>\n",
       "    </tr>\n",
       "  </thead>\n",
       "  <tbody>\n",
       "    <tr>\n",
       "      <th>1</th>\n",
       "      <td>10124.replicate.1</td>\n",
       "      <td>BUSTEDS</td>\n",
       "      <td>null-2.0</td>\n",
       "      <td>20.0</td>\n",
       "      <td>5000.0</td>\n",
       "      <td>0.318259</td>\n",
       "      <td>230973.190874</td>\n",
       "      <td>0.9994</td>\n",
       "      <td>0.0000</td>\n",
       "      <td>1.0000</td>\n",
       "      <td>...</td>\n",
       "      <td>2.7041</td>\n",
       "      <td>0.690029</td>\n",
       "      <td>2.0</td>\n",
       "      <td></td>\n",
       "      <td></td>\n",
       "      <td></td>\n",
       "      <td></td>\n",
       "      <td></td>\n",
       "      <td>0.0</td>\n",
       "      <td></td>\n",
       "    </tr>\n",
       "    <tr>\n",
       "      <th>2</th>\n",
       "      <td>10124.replicate.1</td>\n",
       "      <td>BUSTEDS</td>\n",
       "      <td>null-2.3</td>\n",
       "      <td>20.0</td>\n",
       "      <td>5000.0</td>\n",
       "      <td>0.496982</td>\n",
       "      <td>233691.902977</td>\n",
       "      <td>0.9552</td>\n",
       "      <td>0.5867</td>\n",
       "      <td>0.9617</td>\n",
       "      <td>...</td>\n",
       "      <td>2.6835</td>\n",
       "      <td>0.715804</td>\n",
       "      <td>2.3</td>\n",
       "      <td></td>\n",
       "      <td></td>\n",
       "      <td></td>\n",
       "      <td></td>\n",
       "      <td></td>\n",
       "      <td>0.0</td>\n",
       "      <td></td>\n",
       "    </tr>\n",
       "    <tr>\n",
       "      <th>3</th>\n",
       "      <td>10124.replicate.1</td>\n",
       "      <td>BUSTEDS-MH</td>\n",
       "      <td>null-2.0</td>\n",
       "      <td>20.0</td>\n",
       "      <td>5000.0</td>\n",
       "      <td>0.320431</td>\n",
       "      <td>230979.075570</td>\n",
       "      <td>1.0000</td>\n",
       "      <td>0.0957</td>\n",
       "      <td>1.0000</td>\n",
       "      <td>...</td>\n",
       "      <td>2.7013</td>\n",
       "      <td>0.689720</td>\n",
       "      <td>2.0</td>\n",
       "      <td>0.0</td>\n",
       "      <td>0.0</td>\n",
       "      <td>0.062497</td>\n",
       "      <td>0.0</td>\n",
       "      <td></td>\n",
       "      <td></td>\n",
       "      <td></td>\n",
       "    </tr>\n",
       "    <tr>\n",
       "      <th>4</th>\n",
       "      <td>10124.replicate.1</td>\n",
       "      <td>BUSTEDS-MH</td>\n",
       "      <td>null-2.3</td>\n",
       "      <td>20.0</td>\n",
       "      <td>5000.0</td>\n",
       "      <td>0.500000</td>\n",
       "      <td>233694.760731</td>\n",
       "      <td>0.8683</td>\n",
       "      <td>0.0000</td>\n",
       "      <td>1.0000</td>\n",
       "      <td>...</td>\n",
       "      <td>2.6858</td>\n",
       "      <td>0.715660</td>\n",
       "      <td>2.3</td>\n",
       "      <td>0.00401</td>\n",
       "      <td>0.000479</td>\n",
       "      <td>0.182062</td>\n",
       "      <td></td>\n",
       "      <td></td>\n",
       "      <td></td>\n",
       "      <td></td>\n",
       "    </tr>\n",
       "    <tr>\n",
       "      <th>5</th>\n",
       "      <td>10124.replicate.10</td>\n",
       "      <td>BUSTEDS</td>\n",
       "      <td>null-2.0</td>\n",
       "      <td>20.0</td>\n",
       "      <td>5000.0</td>\n",
       "      <td>0.494722</td>\n",
       "      <td>233386.782642</td>\n",
       "      <td>0.9156</td>\n",
       "      <td>0.0595</td>\n",
       "      <td>0.9519</td>\n",
       "      <td>...</td>\n",
       "      <td>2.4154</td>\n",
       "      <td>0.677510</td>\n",
       "      <td>2.0</td>\n",
       "      <td></td>\n",
       "      <td></td>\n",
       "      <td></td>\n",
       "      <td></td>\n",
       "      <td></td>\n",
       "      <td>0.0</td>\n",
       "      <td></td>\n",
       "    </tr>\n",
       "    <tr>\n",
       "      <th>...</th>\n",
       "      <td>...</td>\n",
       "      <td>...</td>\n",
       "      <td>...</td>\n",
       "      <td>...</td>\n",
       "      <td>...</td>\n",
       "      <td>...</td>\n",
       "      <td>...</td>\n",
       "      <td>...</td>\n",
       "      <td>...</td>\n",
       "      <td>...</td>\n",
       "      <td>...</td>\n",
       "      <td>...</td>\n",
       "      <td>...</td>\n",
       "      <td>...</td>\n",
       "      <td>...</td>\n",
       "      <td>...</td>\n",
       "      <td>...</td>\n",
       "      <td>...</td>\n",
       "      <td>...</td>\n",
       "      <td>...</td>\n",
       "      <td>...</td>\n",
       "    </tr>\n",
       "    <tr>\n",
       "      <th>6353</th>\n",
       "      <td>9982.replicate.10</td>\n",
       "      <td>BUSTEDS-MH</td>\n",
       "      <td>null-0.0</td>\n",
       "      <td>40.0</td>\n",
       "      <td>5000.0</td>\n",
       "      <td>0.324077</td>\n",
       "      <td>213365.484574</td>\n",
       "      <td>0.7767</td>\n",
       "      <td>0.1742</td>\n",
       "      <td>0.9161</td>\n",
       "      <td>...</td>\n",
       "      <td>4.3729</td>\n",
       "      <td>0.753211</td>\n",
       "      <td>0.0</td>\n",
       "      <td>0.0</td>\n",
       "      <td>0.0</td>\n",
       "      <td>0.0</td>\n",
       "      <td>0.0</td>\n",
       "      <td></td>\n",
       "      <td></td>\n",
       "      <td></td>\n",
       "    </tr>\n",
       "    <tr>\n",
       "      <th>6354</th>\n",
       "      <td>9982.replicate.7</td>\n",
       "      <td>BUSTEDS</td>\n",
       "      <td>null-0.0</td>\n",
       "      <td>40.0</td>\n",
       "      <td>5000.0</td>\n",
       "      <td>0.453650</td>\n",
       "      <td>213500.731482</td>\n",
       "      <td>0.8822</td>\n",
       "      <td>0.1752</td>\n",
       "      <td>0.9191</td>\n",
       "      <td>...</td>\n",
       "      <td>4.7707</td>\n",
       "      <td>0.763164</td>\n",
       "      <td>0.0</td>\n",
       "      <td></td>\n",
       "      <td></td>\n",
       "      <td></td>\n",
       "      <td></td>\n",
       "      <td></td>\n",
       "      <td>0.0</td>\n",
       "      <td></td>\n",
       "    </tr>\n",
       "    <tr>\n",
       "      <th>6355</th>\n",
       "      <td>9982.replicate.7</td>\n",
       "      <td>BUSTEDS-MH</td>\n",
       "      <td>null-0.0</td>\n",
       "      <td>40.0</td>\n",
       "      <td>5000.0</td>\n",
       "      <td>0.451574</td>\n",
       "      <td>213506.727146</td>\n",
       "      <td>0.5125</td>\n",
       "      <td>0.0584</td>\n",
       "      <td>0.8078</td>\n",
       "      <td>...</td>\n",
       "      <td>4.7643</td>\n",
       "      <td>0.763376</td>\n",
       "      <td>0.0</td>\n",
       "      <td>0.0</td>\n",
       "      <td>0.0</td>\n",
       "      <td>0.0</td>\n",
       "      <td>0.0</td>\n",
       "      <td></td>\n",
       "      <td></td>\n",
       "      <td></td>\n",
       "    </tr>\n",
       "    <tr>\n",
       "      <th>6356</th>\n",
       "      <td>9982.replicate.8</td>\n",
       "      <td>BUSTEDS</td>\n",
       "      <td>null-0.0</td>\n",
       "      <td>40.0</td>\n",
       "      <td>5000.0</td>\n",
       "      <td>0.441551</td>\n",
       "      <td>219280.285307</td>\n",
       "      <td>1.0000</td>\n",
       "      <td>0.6562</td>\n",
       "      <td>1.0000</td>\n",
       "      <td>...</td>\n",
       "      <td>4.6202</td>\n",
       "      <td>0.755444</td>\n",
       "      <td>0.0</td>\n",
       "      <td></td>\n",
       "      <td></td>\n",
       "      <td></td>\n",
       "      <td></td>\n",
       "      <td></td>\n",
       "      <td>0.0</td>\n",
       "      <td></td>\n",
       "    </tr>\n",
       "    <tr>\n",
       "      <th>6357</th>\n",
       "      <td>9982.replicate.8</td>\n",
       "      <td>BUSTEDS-MH</td>\n",
       "      <td>null-0.0</td>\n",
       "      <td>40.0</td>\n",
       "      <td>5000.0</td>\n",
       "      <td>0.500000</td>\n",
       "      <td>219286.546834</td>\n",
       "      <td>0.9392</td>\n",
       "      <td>0.0000</td>\n",
       "      <td>1.0000</td>\n",
       "      <td>...</td>\n",
       "      <td>4.6124</td>\n",
       "      <td>0.755716</td>\n",
       "      <td>0.0</td>\n",
       "      <td>0.0</td>\n",
       "      <td>0.0</td>\n",
       "      <td>0.0</td>\n",
       "      <td></td>\n",
       "      <td></td>\n",
       "      <td></td>\n",
       "      <td></td>\n",
       "    </tr>\n",
       "  </tbody>\n",
       "</table>\n",
       "<p>6357 rows × 29 columns</p>\n",
       "</div>"
      ],
      "text/plain": [
       "                    Gene      Method Simulation  Sequences  Codons  \\\n",
       "1      10124.replicate.1     BUSTEDS   null-2.0       20.0  5000.0   \n",
       "2      10124.replicate.1     BUSTEDS   null-2.3       20.0  5000.0   \n",
       "3      10124.replicate.1  BUSTEDS-MH   null-2.0       20.0  5000.0   \n",
       "4      10124.replicate.1  BUSTEDS-MH   null-2.3       20.0  5000.0   \n",
       "5     10124.replicate.10     BUSTEDS   null-2.0       20.0  5000.0   \n",
       "...                  ...         ...        ...        ...     ...   \n",
       "6353   9982.replicate.10  BUSTEDS-MH   null-0.0       40.0  5000.0   \n",
       "6354    9982.replicate.7     BUSTEDS   null-0.0       40.0  5000.0   \n",
       "6355    9982.replicate.7  BUSTEDS-MH   null-0.0       40.0  5000.0   \n",
       "6356    9982.replicate.8     BUSTEDS   null-0.0       40.0  5000.0   \n",
       "6357    9982.replicate.8  BUSTEDS-MH   null-0.0       40.0  5000.0   \n",
       "\n",
       "      LRT p-value           cAIC      w1      p1      w2  ...  SRV_p3  \\\n",
       "1        0.318259  230973.190874  0.9994  0.0000  1.0000  ...  2.7041   \n",
       "2        0.496982  233691.902977  0.9552  0.5867  0.9617  ...  2.6835   \n",
       "3        0.320431  230979.075570  1.0000  0.0957  1.0000  ...  2.7013   \n",
       "4        0.500000  233694.760731  0.8683  0.0000  1.0000  ...  2.6858   \n",
       "5        0.494722  233386.782642  0.9156  0.0595  0.9519  ...  2.4154   \n",
       "...           ...            ...     ...     ...     ...  ...     ...   \n",
       "6353     0.324077  213365.484574  0.7767  0.1742  0.9161  ...  4.3729   \n",
       "6354     0.453650  213500.731482  0.8822  0.1752  0.9191  ...  4.7707   \n",
       "6355     0.451574  213506.727146  0.5125  0.0584  0.8078  ...  4.7643   \n",
       "6356     0.441551  219280.285307  1.0000  0.6562  1.0000  ...  4.6202   \n",
       "6357     0.500000  219286.546834  0.9392  0.0000  1.0000  ...  4.6124   \n",
       "\n",
       "      CV(alpha)_calculated  CV(alpha)_simulated  DH_Rate   TH_Rate  \\\n",
       "1                 0.690029                  2.0                      \n",
       "2                 0.715804                  2.3                      \n",
       "3                 0.689720                  2.0      0.0       0.0   \n",
       "4                 0.715660                  2.3  0.00401  0.000479   \n",
       "5                 0.677510                  2.0                      \n",
       "...                    ...                  ...      ...       ...   \n",
       "6353              0.753211                  0.0      0.0       0.0   \n",
       "6354              0.763164                  0.0                      \n",
       "6355              0.763376                  0.0      0.0       0.0   \n",
       "6356              0.755444                  0.0                      \n",
       "6357              0.755716                  0.0      0.0       0.0   \n",
       "\n",
       "      TH_Rate_SI  BUSTEDS-MH_num_ER_Sites  BUSTEDS-MH_ER_Sites  \\\n",
       "1                                                                \n",
       "2                                                                \n",
       "3       0.062497                      0.0                        \n",
       "4       0.182062                                                 \n",
       "5                                                                \n",
       "...          ...                      ...                  ...   \n",
       "6353         0.0                      0.0                        \n",
       "6354                                                             \n",
       "6355         0.0                      0.0                        \n",
       "6356                                                             \n",
       "6357         0.0                                                 \n",
       "\n",
       "      BUSTEDS_num_ER_Sites  BUSTEDS_ER_Sites  \n",
       "1                      0.0                    \n",
       "2                      0.0                    \n",
       "3                                             \n",
       "4                                             \n",
       "5                      0.0                    \n",
       "...                    ...               ...  \n",
       "6353                                          \n",
       "6354                   0.0                    \n",
       "6355                                          \n",
       "6356                   0.0                    \n",
       "6357                                          \n",
       "\n",
       "[6357 rows x 29 columns]"
      ]
     },
     "execution_count": 54,
     "metadata": {},
     "output_type": "execute_result"
    }
   ],
   "source": [
    "#result = pd.concat(df_holder[:-1])\n",
    "result = pd.concat(df_holder)\n",
    "result = result.fillna(\"\")\n",
    "result = result.sort_values(by=[\"Gene\", \"Method\"], ascending=True)\n",
    "result = result.reset_index(drop=True)\n",
    "result.index += 1\n",
    "result"
   ]
  },
  {
   "cell_type": "code",
   "execution_count": 55,
   "id": "317fbea8",
   "metadata": {},
   "outputs": [
    {
     "name": "stdout",
     "output_type": "stream",
     "text": [
      "Saving results to: E:\\BUSTEDS-MH\\tables\\Table_SIMULATIONS-SHULTZ-SACKTON_BUSTEDS_and_BUSTEDS-MH.csv\n"
     ]
    }
   ],
   "source": [
    "print(\"Saving results to:\", OUTPUT_CSV)\n",
    "result.to_csv(OUTPUT_CSV, index=False)"
   ]
  },
  {
   "cell_type": "code",
   "execution_count": 23,
   "id": "3e6c5903",
   "metadata": {},
   "outputs": [
    {
     "name": "stdout",
     "output_type": "stream",
     "text": [
      "51\n"
     ]
    }
   ],
   "source": [
    "num_FP_p0_05 = df_h[df_h[\"LRT p-value\"] <= 0.05].shape[0]\n",
    "print(num_FP_p0_05)"
   ]
  },
  {
   "cell_type": "code",
   "execution_count": 24,
   "id": "small-character",
   "metadata": {},
   "outputs": [],
   "source": [
    "pvalue_thresholds = [0.01, 0.05, 0.1]\n",
    "df_dict = {}\n",
    "for value in pvalue_thresholds:\n",
    "    FP = df_h[df_h[\"LRT p-value\"] <= value].shape[0]\n",
    "    TN = df_h.shape[0]\n",
    "    #num_FP_p0_05 = df_h[df_h[\"LRT p-value\"] <= 0.05].shape[0]\n",
    "    df_dict[value] = {\"FPR\": FP/(FP+TN), \"Size\": TN} \n",
    "    "
   ]
  },
  {
   "cell_type": "code",
   "execution_count": 25,
   "id": "relative-scout",
   "metadata": {},
   "outputs": [
    {
     "data": {
      "text/plain": [
       "{0.01: {'FPR': 0.0062932662051604785, 'Size': 1579},\n",
       " 0.05: {'FPR': 0.03128834355828221, 'Size': 1579},\n",
       " 0.1: {'FPR': 0.05899880810488677, 'Size': 1579}}"
      ]
     },
     "execution_count": 25,
     "metadata": {},
     "output_type": "execute_result"
    }
   ],
   "source": [
    "df_dict"
   ]
  },
  {
   "cell_type": "code",
   "execution_count": null,
   "id": "3ca3624d",
   "metadata": {},
   "outputs": [],
   "source": [
    "# End of file"
   ]
  }
 ],
 "metadata": {
  "kernelspec": {
   "display_name": "Python 3",
   "language": "python",
   "name": "python3"
  },
  "language_info": {
   "codemirror_mode": {
    "name": "ipython",
    "version": 3
   },
   "file_extension": ".py",
   "mimetype": "text/x-python",
   "name": "python",
   "nbconvert_exporter": "python",
   "pygments_lexer": "ipython3",
   "version": "3.9.1"
  }
 },
 "nbformat": 4,
 "nbformat_minor": 5
}
