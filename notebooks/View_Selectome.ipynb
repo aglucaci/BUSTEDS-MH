{
 "cells": [
  {
   "cell_type": "markdown",
   "id": "different-clinic",
   "metadata": {},
   "source": [
    "## Imports"
   ]
  },
  {
   "cell_type": "code",
   "execution_count": null,
   "id": "deadly-chance",
   "metadata": {},
   "outputs": [],
   "source": [
    "# Imports\n",
    "import pandas as pd\n",
    "import plotly.express as px\n",
    "from prettytable import PrettyTable\n",
    "import plotly.graph_objects as go\n",
    "import numpy as np\n",
    "import random\n",
    "import csv\n",
    "import os\n",
    "import json\n",
    "import altair as alt\n",
    "from tqdm import tqdm\n",
    "import numpy as np\n",
    "import seaborn as sns\n",
    "#import dataframe_image as dfi\n",
    "from numpy.random import seed\n",
    "from numpy.random import randn\n",
    "from statsmodels.graphics.gofplots import qqplot\n",
    "from matplotlib import pyplot\n",
    "alt.data_transformers.disable_max_rows()"
   ]
  },
  {
   "cell_type": "markdown",
   "id": "sacred-nepal",
   "metadata": {},
   "source": [
    "## Declares"
   ]
  },
  {
   "cell_type": "code",
   "execution_count": null,
   "id": "lucky-jason",
   "metadata": {},
   "outputs": [],
   "source": [
    "WD = os.path.join(\"E:\\\\\", \"BUSTEDS-MH\")\n",
    "#WD = \"/Users/alex/Documents/BUSTEDS-MH\"\n",
    "DATA = os.path.join(WD, \"tables\", \"Table_EMPIRICAL_UNMASKED_SELECTOME_BUSTEDS_and_BUSTEDS-MH.csv\")"
   ]
  },
  {
   "cell_type": "code",
   "execution_count": null,
   "id": "gothic-weekly",
   "metadata": {},
   "outputs": [],
   "source": [
    "pct = lambda a, b: (a / b) * 100\n",
    "pct_formatted = lambda a, b: str(round((a / b) * 100, 2)) + \"%\""
   ]
  },
  {
   "cell_type": "code",
   "execution_count": null,
   "id": "major-saver",
   "metadata": {},
   "outputs": [],
   "source": [
    "print(\"Reading:\", DATA)\n",
    "df = pd.read_csv(DATA)\n",
    "df = df.reset_index(drop=True)\n",
    "df.index += 1\n",
    "df"
   ]
  },
  {
   "cell_type": "code",
   "execution_count": null,
   "id": "happy-oxygen",
   "metadata": {},
   "outputs": [],
   "source": [
    "df.columns"
   ]
  },
  {
   "cell_type": "markdown",
   "id": "protected-grenada",
   "metadata": {},
   "source": [
    "## Simple numbers"
   ]
  },
  {
   "cell_type": "code",
   "execution_count": null,
   "id": "nervous-productivity",
   "metadata": {},
   "outputs": [],
   "source": [
    "# simple counts\n",
    "num_genes_BUSTEDSMH = df[df[\"Method\"] == \"BUSTEDS-MH\"]\n",
    "num_genes_BUSTEDS = df[df[\"Method\"] == \"BUSTEDS\"]\n",
    "\n",
    "# goodness of fit, model fit\n",
    "delta_cAIC_5 = df[df[\"ΔcAIC\"] > 5]\n",
    "BUSTEDS_preferred_cAIC_5 = delta_cAIC_5[delta_cAIC_5[\"Method\"] == \"BUSTEDS\"]\n",
    "BUSTEDSMH_preferred_cAIC_5 = delta_cAIC_5[delta_cAIC_5[\"Method\"] == \"BUSTEDS-MH\"]\n",
    "\n",
    "delta_cAIC = df[df[\"ΔcAIC\"] > 0]\n",
    "BUSTEDS_preferred = delta_cAIC[delta_cAIC[\"Method\"] == \"BUSTEDS\"]\n",
    "BUSTEDSMH_preferred = delta_cAIC[delta_cAIC[\"Method\"] == \"BUSTEDS-MH\"]\n",
    "\n",
    "# Selection, lrt pvalue\n",
    "BUSTEDSMH_selection = num_genes_BUSTEDSMH[num_genes_BUSTEDSMH[\"LRT p-value\"] <= 0.05]\n",
    "BUSTEDS_selection = num_genes_BUSTEDS[num_genes_BUSTEDS[\"LRT p-value\"] <= 0.05]\n",
    "\n",
    "# cAIC\n",
    "print(\"# Number of genes (BUSTEDS-MH):\", num_genes_BUSTEDSMH.shape[0])\n",
    "print(\"# Number of genes (BUSTEDS):\", num_genes_BUSTEDS.shape[0])\n",
    "print(\"# Number of genes preferring BUSTEDS (by more than 5 delta cAIC):\", BUSTEDS_preferred_cAIC_5.shape[0])\n",
    "print(\"# Number of genes preferring BUSTEDS-MH (by more than 5 delta cAIC):\", BUSTEDSMH_preferred_cAIC_5.shape[0])\n",
    "\n",
    "print(\"# Number of genes preferring BUSTEDS (by any amount, cAIC):\", BUSTEDS_preferred.shape[0])\n",
    "print(\"# Number of genes preferring BUSTEDS-MH (by any amount, cAIC):\", BUSTEDSMH_preferred.shape[0])\n",
    "\n",
    "# LRT statistics, continued\n",
    "print(\"# Number of genes with episodic diversifying selection BUSTEDS (LRT pvalue <= 0.05):\", BUSTEDS_selection.shape[0], \"corresponding to\", \n",
    "      str(round(pct(BUSTEDS_selection.shape[0], num_genes_BUSTEDS.shape[0]),2)) + \"%\", \"of genes\")\n",
    "\n",
    "print(\"# Number of genes with episodic diversifying selection BUSTEDS-MH (LRT pvalue <= 0.05):\", BUSTEDSMH_selection.shape[0], \"corresponding to\", \n",
    "      str(round(pct(BUSTEDSMH_selection.shape[0], num_genes_BUSTEDSMH.shape[0]),2)) + \"%\", \"of genes\")\n",
    "\n",
    "# Other comparisons 2x2 table --------------------------------------------\n",
    "\n",
    "## Datasets where BUSTEDS and BUSTEDS-MH fail\n",
    "BUSTEDSMH_selection_fails = num_genes_BUSTEDSMH[num_genes_BUSTEDSMH[\"LRT p-value\"] > 0.05]\n",
    "BUSTEDS_selection_fails = num_genes_BUSTEDS[num_genes_BUSTEDS[\"LRT p-value\"] > 0.05]\n",
    "\n",
    "print()\n",
    "x = set(BUSTEDSMH_selection_fails[\"Gene\"].to_list()).intersection(BUSTEDS_selection_fails[\"Gene\"].to_list())\n",
    "print (\"# Genes where BUSTEDS and BUSTEDS-MH fail to find evidence of episodic diversifying selection:\", len(x), \n",
    "       str(round(pct(len(x), num_genes_BUSTEDSMH.shape[0]), 2)) + \"%\")\n",
    "\n",
    "## Datasets where BUSTEDS and BUSTEDS-MH find selection\n",
    "BUSTEDSMH_selection_works = num_genes_BUSTEDSMH[num_genes_BUSTEDSMH[\"LRT p-value\"] <= 0.05]\n",
    "BUSTEDS_selection_works = num_genes_BUSTEDS[num_genes_BUSTEDS[\"LRT p-value\"] <= 0.05]\n",
    "y = set(BUSTEDSMH_selection_works[\"Gene\"].to_list()).intersection(BUSTEDS_selection_works[\"Gene\"].to_list())\n",
    "print (\"# Genes where BUSTEDS and BUSTEDS-MH find evidence of episodic diversifying selection:\", len(y), \n",
    "       str(round(pct(len(y), num_genes_BUSTEDSMH.shape[0]), 2)) + \"%\")\n",
    "\n",
    "## Datasets where BUSTEDS fails and BUSTEDS-MH finds selection\n",
    "BUSTEDSMH_selection_works = num_genes_BUSTEDSMH[num_genes_BUSTEDSMH[\"LRT p-value\"] <= 0.05]\n",
    "BUSTEDS_selection_fails = num_genes_BUSTEDS[num_genes_BUSTEDS[\"LRT p-value\"] > 0.05]\n",
    "\n",
    "z = set(BUSTEDSMH_selection_works[\"Gene\"].to_list()).intersection(BUSTEDS_selection_fails[\"Gene\"].to_list())\n",
    "print (\"# Genes where BUSTEDS fails and BUSTEDS-MH does find evidence of episodic diversifying selection:\", len(z), \n",
    "       str(round(pct(len(z), num_genes_BUSTEDSMH.shape[0]), 2)) + \"%\")\n",
    "\n",
    "## Datasets where BUSTEDS finds selection and BUSTEDS-MH fails\n",
    "BUSTEDSMH_selection_fails = num_genes_BUSTEDSMH[num_genes_BUSTEDSMH[\"LRT p-value\"] > 0.05]\n",
    "BUSTEDS_selection_works = num_genes_BUSTEDS[num_genes_BUSTEDS[\"LRT p-value\"] <= 0.05]\n",
    "\n",
    "a = set(BUSTEDSMH_selection_fails[\"Gene\"].to_list()).intersection(BUSTEDS_selection_works[\"Gene\"].to_list())\n",
    "print (\"# Genes where BUSTEDS find evidence of episodic diversifying selection and BUSTEDS-MH fails:\", len(a), \n",
    "       str(round(pct(len(a), num_genes_BUSTEDSMH.shape[0]), 2)) + \"%\")\n",
    "\n",
    "sum_row1 = len(x) + len(z)\n",
    "sum_row2 = len(a) + len(y)\n",
    "\n",
    "sum_col1 = len(x) + len(a)\n",
    "sum_col2 = len(z) + len(y)\n",
    "\n",
    "print()\n",
    "print(\"# Row sums:\", \"raw\", sum_row1, \"percent\", pct_formatted(sum_row1, num_genes_BUSTEDSMH.shape[0]),\n",
    "      \"and\", sum_row2, \"percent\", pct_formatted(sum_row2, num_genes_BUSTEDSMH.shape[0]))\n",
    "\n",
    "print(\"# Column sums:\", \"raw\", sum_col1, \"percent\", pct_formatted(sum_col1, num_genes_BUSTEDSMH.shape[0]),\n",
    "      \"and\", sum_col2, \"percent\", pct_formatted(sum_col2, num_genes_BUSTEDSMH.shape[0]))"
   ]
  },
  {
   "cell_type": "markdown",
   "id": "c5bbb5cf-7986-4dda-b2e1-6265d55793f4",
   "metadata": {},
   "source": [
    "## More numbers"
   ]
  },
  {
   "cell_type": "code",
   "execution_count": null,
   "id": "blocked-showcase",
   "metadata": {},
   "outputs": [],
   "source": [
    "# goodness of fit, model fit\n",
    "delta_cAIC = df[df[\"ΔcAIC\"] > 0]\n",
    "BUSTEDS_preferred = delta_cAIC[delta_cAIC[\"Method\"] == \"BUSTEDS\"]\n",
    "BUSTEDSMH_preferred = delta_cAIC[delta_cAIC[\"Method\"] == \"BUSTEDS-MH\"]\n",
    "\n",
    "# cAIC\n",
    "print(\"# Number of genes (BUSTEDS-MH):\", num_genes_BUSTEDSMH.shape[0])\n",
    "print(\"# Number of genes (BUSTEDS):\", num_genes_BUSTEDS.shape[0])\n",
    "print(\"# Number of genes preferring BUSTEDS (by any amount, cAIC):\", BUSTEDS_preferred.shape[0])\n",
    "print(\"# Number of genes preferring BUSTEDS-MH (by any amount, cAIC):\", BUSTEDSMH_preferred.shape[0])\n",
    "\n",
    "x = pct_formatted(BUSTEDSMH_preferred.shape[0], num_genes_BUSTEDSMH.shape[0])\n",
    "print(\"# Model preference for BUSTEDS-MH:\", x, \"of datasets\")\n",
    "\n",
    "y = BUSTEDSMH_preferred[\"ΔcAIC\"].median()\n",
    "print(\"# Median ΔcAIC:\", y)\n",
    "\n",
    "Q3 = np.quantile(BUSTEDSMH_preferred[\"ΔcAIC\"], 0.75)\n",
    "Q1 = np.quantile(BUSTEDSMH_preferred[\"ΔcAIC\"], 0.25)\n",
    "IQR = Q3 - Q1\n",
    "print(\"# IQR (ΔcAIC):\", IQR)\n",
    "\n",
    "z = BUSTEDSMH_preferred[\"CV(alpha)\"].median()\n",
    "Q3 = np.quantile(BUSTEDSMH_preferred[\"CV(alpha)\"], 0.75)\n",
    "Q1 = np.quantile(BUSTEDSMH_preferred[\"CV(alpha)\"], 0.25)\n",
    "IQR = Q3 - Q1\n",
    "print(\"# Median CV(alpha):\", round(z,2))\n",
    "print(\"# IQR (CV(alpha)):\", round(IQR,2))\n",
    "\n",
    "# MH Rates\n",
    "def median_iqr(data):\n",
    "    z = data.median()\n",
    "    Q3 = np.quantile(data, 0.75)\n",
    "    Q1 = np.quantile(data, 0.25)\n",
    "    IQR = Q3 - Q1\n",
    "    return z, IQR\n",
    "#end method\n",
    "\n",
    "median_DH, IQR_DH = median_iqr(BUSTEDSMH_preferred[\"DH_Rate\"])\n",
    "median_TH, IQR_TH = median_iqr(BUSTEDSMH_preferred[\"TH_Rate\"])\n",
    "median_TH_SI, IQR_TH_SI = median_iqr(BUSTEDSMH_preferred[\"TH_Rate_SI\"])\n",
    "\n",
    "print(\"# Median DH Rate:\", round(median_DH, 2), \"IQR:\",  round(IQR_DH, 2))\n",
    "print(\"# Median TH Rate:\",  round(median_TH, 2), \"IQR:\",  round(IQR_TH, 2))\n",
    "print(\"# Median TH_SI Rate:\",  round(median_TH_SI, 2), \"IQR:\",  round(IQR_TH_SI, 2))\n",
    "\n",
    "# Not preferred\n",
    "delta_cAIC_NaN = df[df[\"ΔcAIC\"].isna()]\n",
    "BUSTEDS_NaN = delta_cAIC_NaN[delta_cAIC_NaN[\"Method\"] == \"BUSTEDS\"]\n",
    "BUSTEDSMH_NaN = delta_cAIC_NaN[delta_cAIC_NaN[\"Method\"] == \"BUSTEDS-MH\"]\n",
    "\n",
    "median_CVA, IQR_CVA = median_iqr(BUSTEDSMH_NaN[\"CV(alpha)\"])\n",
    "print(\"# Median (for datasets where BUSTEDS-MH is not preferred) CV(alpha):\", round(median_CVA, 2), \"IQR:\",  round(IQR_CVA, 2))\n",
    "\n",
    "median_DH, IQR_DH = median_iqr(BUSTEDSMH_NaN[\"DH_Rate\"])\n",
    "median_TH, IQR_TH = median_iqr(BUSTEDSMH_NaN[\"TH_Rate\"])\n",
    "median_TH_SI, IQR_TH_SI = median_iqr(BUSTEDSMH_NaN[\"TH_Rate_SI\"])\n",
    "\n",
    "print(\"# Median (for datasets where BUSTEDS-MH is not preferred) DH Rate:\", round(median_DH, 2), \"IQR:\",  round(IQR_DH, 2))\n",
    "print(\"# Median (for datasets where BUSTEDS-MH is not preferred) TH Rate:\",  round(median_TH, 2), \"IQR:\",  round(IQR_TH, 2))\n",
    "print(\"# Median (for datasets where BUSTEDS-MH is not preferred) TH_SI Rate:\",  round(median_TH_SI, 2), \"IQR:\",  round(IQR_TH_SI, 2))\n",
    "\n",
    "# Betas\n",
    "BUSTEDSMH_preferred[\"CV(beta)\"] = BUSTEDSMH_preferred[\"CV(omega)\"] * BUSTEDSMH_preferred[\"CV(alpha)\"]\n",
    "BUSTEDSMH_NaN[\"CV(beta)\"] = BUSTEDSMH_NaN[\"CV(omega)\"] * BUSTEDSMH_NaN[\"CV(alpha)\"]\n",
    "\n",
    "#print(\"# Median CV(beta), for datasets where BUSTEDS-MH is preferred:\", BUSTEDSMH_preferred[\"CV(beta)\"].median())\n",
    "#print(\"# Median CV(beta), for datasets where BUSTEDS-MH is NOT preferred:\", BUSTEDSMH_NaN[\"CV(beta)\"].median())\n",
    "\n",
    "median_CVB, IQR_CVB = median_iqr(BUSTEDSMH_preferred[\"CV(beta)\"])\n",
    "median_NaN_CVB, IQR_NaN_CVB= median_iqr(BUSTEDSMH_NaN[\"CV(beta)\"])\n",
    "\n",
    "print(\"# Median (for datasets where BUSTEDS-MH is preferred) CV(beta):\", round(median_CVB, 2), \"IQR:\",  round(IQR_CVB, 2))\n",
    "print(\"# Median (for datasets where BUSTEDS-MH is not preferred) CV(beta):\",  round(median_NaN_CVB, 2), \"IQR:\",  round(IQR_NaN_CVB, 2))\n"
   ]
  },
  {
   "cell_type": "markdown",
   "id": "pointed-denver",
   "metadata": {},
   "source": [
    "## ER Analysis"
   ]
  },
  {
   "cell_type": "code",
   "execution_count": null,
   "id": "advanced-drunk",
   "metadata": {},
   "outputs": [],
   "source": [
    "from scipy.stats import describe\n",
    "\n",
    "\n",
    "df_UnderSelection = df[df[\"LRT p-value\"] <= 0.05]\n",
    "df_UnderSelection.hist(\"NUM_ER_SITES\", bins=50, by=\"Method\")\n",
    "#plt.figure()\n",
    "#df_UnderSelection[\"NUM_ER_SITES\"].plot(kind=\"hist\", bins=30, by=\"Method\", colormap=\"jet\")\n",
    "#plt.xlabel('Number of ER sites')\n",
    "#plt.ylabel('Counts')\n",
    "#plt.show()\n",
    "#print(df_UnderSelection[df_UnderSelection[\"Method\"] == \"BUSTEDS-MH\"])\n",
    "\n",
    "#BSMH = df_UnderSelection[df_UnderSelection[\"Method\"] == \"BUSTEDS-MH\"]\n",
    "#BS   = df_UnderSelection[df_UnderSelection[\"Method\"] == \"BUSTEDS\"]\n",
    "\n",
    "print(\"# BUSTEDS-MH, Selectome datasets where we find positive selection\")\n",
    "#print(df_UnderSelection[df_UnderSelection[\"Method\"] == \"BUSTEDS-MH\"][\"NUM_ER_SITES\"].describe())\n",
    "#print(df_UnderSelection[df_UnderSelection[\"Method\"] == \"BUSTEDS-MH\"][\"NUM_ER_SITES\"].median())\n",
    "print(describe(df_UnderSelection[df_UnderSelection[\"Method\"] == \"BUSTEDS-MH\"][\"NUM_ER_SITES\"]))\n",
    "print()\n",
    "print(\"# BUSTEDS, Selectome datasets where we find positive selection\")\n",
    "#print(df_UnderSelection[df_UnderSelection[\"Method\"] == \"BUSTEDS\"][\"NUM_ER_SITES\"].describe())\n",
    "print(describe(df_UnderSelection[df_UnderSelection[\"Method\"] == \"BUSTEDS\"][\"NUM_ER_SITES\"]))"
   ]
  },
  {
   "cell_type": "code",
   "execution_count": null,
   "id": "cellular-filling",
   "metadata": {},
   "outputs": [],
   "source": [
    "# As diagnostic. In datasets where we find evidence of positive selection by either BUSTED[S]-MH or BUSTED[S], how many ER sites (ER>5) do we find?  "
   ]
  },
  {
   "cell_type": "code",
   "execution_count": null,
   "id": "opening-repository",
   "metadata": {},
   "outputs": [],
   "source": [
    "# How about looking at only the 340 Shares by both methods"
   ]
  },
  {
   "cell_type": "code",
   "execution_count": null,
   "id": "needed-shock",
   "metadata": {},
   "outputs": [],
   "source": [
    "num_genes_BUSTEDSMH = df[df[\"Method\"] == \"BUSTEDS-MH\"]\n",
    "num_genes_BUSTEDS = df[df[\"Method\"] == \"BUSTEDS\"]\n",
    "\n",
    "## Datasets where BUSTEDS and BUSTEDS-MH find selection\n",
    "BUSTEDSMH_selection_works = num_genes_BUSTEDSMH[num_genes_BUSTEDSMH[\"LRT p-value\"] <= 0.05]\n",
    "BUSTEDS_selection_works = num_genes_BUSTEDS[num_genes_BUSTEDS[\"LRT p-value\"] <= 0.05]\n",
    "\n",
    "y = set(BUSTEDSMH_selection_works[\"Gene\"].to_list()).intersection(BUSTEDS_selection_works[\"Gene\"].to_list())\n",
    "\n",
    "print (\"# Genes where BUSTEDS and BUSTEDS-MH find evidence of episodic diversifying selection:\", len(y), \n",
    "       str(round(pct(len(y), num_genes_BUSTEDSMH.shape[0]), 2)) + \"%\")\n",
    "#y.hist(\"NUM_ER_SITES\", bins=50, by=\"Method\")\n",
    "#print(describe(df_UnderSelection[df_UnderSelection[\"Method\"] == \"BUSTEDS-MH\"][\"NUM_ER_SITES\"]))"
   ]
  },
  {
   "cell_type": "code",
   "execution_count": null,
   "id": "viral-tackle",
   "metadata": {},
   "outputs": [],
   "source": [
    "num_genes_BUSTEDSMH"
   ]
  },
  {
   "cell_type": "code",
   "execution_count": null,
   "id": "lyric-greece",
   "metadata": {},
   "outputs": [],
   "source": [
    "## Datasets where BUSTEDS finds selection and BUSTEDS-MH fails\n",
    "BUSTEDSMH_selection_fails = num_genes_BUSTEDSMH[num_genes_BUSTEDSMH[\"LRT p-value\"] > 0.05]\n",
    "BUSTEDS_selection_works = num_genes_BUSTEDS[num_genes_BUSTEDS[\"LRT p-value\"] <= 0.05]\n",
    "\n",
    "a = set(BUSTEDSMH_selection_fails[\"Gene\"].to_list()).intersection(BUSTEDS_selection_works[\"Gene\"].to_list())\n",
    "print (\"# Genes where BUSTEDS find evidence of episodic diversifying selection and BUSTEDS-MH fails:\", len(a), \n",
    "       str(round(pct(len(a), num_genes_BUSTEDSMH.shape[0]), 2)) + \"%\")"
   ]
  },
  {
   "cell_type": "code",
   "execution_count": null,
   "id": "becoming-security",
   "metadata": {},
   "outputs": [],
   "source": [
    "num_genes_BUSTEDSMH"
   ]
  },
  {
   "cell_type": "markdown",
   "id": "recognized-anniversary",
   "metadata": {},
   "source": [
    "## Univariate stats"
   ]
  },
  {
   "cell_type": "code",
   "execution_count": null,
   "id": "roman-saying",
   "metadata": {},
   "outputs": [],
   "source": [
    "BUSTEDSMH_preferred[\"ΔcAIC\"].hist()"
   ]
  },
  {
   "cell_type": "code",
   "execution_count": null,
   "id": "coupled-sheet",
   "metadata": {},
   "outputs": [],
   "source": [
    "# q-q plot\n",
    "qqplot(BUSTEDSMH_preferred[\"ΔcAIC\"], line='s')\n",
    "pyplot.show()"
   ]
  },
  {
   "cell_type": "markdown",
   "id": "olive-metallic",
   "metadata": {},
   "source": [
    "## Clean way to present the results table"
   ]
  },
  {
   "cell_type": "code",
   "execution_count": null,
   "id": "extra-distinction",
   "metadata": {},
   "outputs": [],
   "source": [
    "columns = ['Gene', 'Method', 'Sequences', 'Codons', 'LRT p-value', 'cAIC', 'w1',\n",
    "       'p1', 'w2', 'p2', 'w3', 'p3', 'SRV1', 'SRV_p1', 'SRV2', 'SRV_p2',\n",
    "       'SRV3', 'SRV_p3', 'DH_Rate', 'TH_Rate', 'TH_Rate_SI']\n",
    "\n",
    "dfv = df[columns]\n",
    "dfv = dfv.fillna(\"\")\n",
    "dfv = dfv.round(2)\n",
    "dfv"
   ]
  },
  {
   "cell_type": "markdown",
   "id": "furnished-assistant",
   "metadata": {},
   "source": [
    "### Save an image of the table"
   ]
  },
  {
   "cell_type": "code",
   "execution_count": null,
   "id": "elementary-enhancement",
   "metadata": {},
   "outputs": [],
   "source": [
    "#dfi.export(dfv,\"13Datasets_Table.png\")"
   ]
  },
  {
   "cell_type": "markdown",
   "id": "abstract-arkansas",
   "metadata": {},
   "source": [
    "## Preprocessing for plots"
   ]
  },
  {
   "cell_type": "code",
   "execution_count": null,
   "id": "handed-employee",
   "metadata": {},
   "outputs": [],
   "source": [
    "df[\"DH_Rate\"].describe()"
   ]
  },
  {
   "cell_type": "code",
   "execution_count": null,
   "id": "fossil-boxing",
   "metadata": {},
   "outputs": [],
   "source": [
    "df[\"TH_Rate\"].describe()"
   ]
  },
  {
   "cell_type": "code",
   "execution_count": null,
   "id": "hybrid-cyprus",
   "metadata": {},
   "outputs": [],
   "source": [
    "def process(df, method, parameter, tag, gate=100, bins=15, min_members=100):\n",
    "    source = df\n",
    "    source = source[source[\"Method\"] == method] # By method\n",
    "    source = source[source[parameter] < gate] # Gate\n",
    "    bins = np.linspace(0, gate, bins)\n",
    "    count = 1\n",
    "    labels = []\n",
    "    for x in range(len(bins) - 1):\n",
    "        labels.append(count)\n",
    "        count+=1\n",
    "    #end for\n",
    "    source['binned'] = pd.cut(source[parameter], bins=bins, labels=labels)\n",
    "    #source['binned'] = pd.qcut(source[parameter], q=bins, labels=labels)\n",
    "    df_holder = []\n",
    "    for item in labels:\n",
    "        # Process each label\n",
    "        # Get average w3, fraction under selection\n",
    "        df_h = source[source['binned'] == item]\n",
    "        df_h[\"num_bin_items\"] = int(df_h.shape[0])\n",
    "        df_h[tag] = float(df_h[parameter].mean())\n",
    "        if df_h.shape[0] > 0:\n",
    "            df_h[\"fraction_under_selection\"] = (df_h[df_h[\"LRT p-value\"] <= 0.05].shape[0] / df_h.shape[0]) \n",
    "        # add assert, that the bin has more than X members\n",
    "        df_holder.append(df_h)\n",
    "    #end for\n",
    "    return pd.concat(df_holder)\n",
    "#end method\n",
    "\n",
    "# Omegas\n",
    "df1 = process(df, \"BUSTEDS-MH\", \"w3\", \"average_w3\", bins=15)\n",
    "df2 = process(df, \"BUSTEDS\",\"w3\", \"average_w3\", bins=15)\n",
    "\n",
    "# SRVs\n",
    "df1_SRV = process(df, \"BUSTEDS-MH\", \"CV(alpha)\", \"average_CV(alpha)\", gate=2, bins=15)\n",
    "df2_SRV = process(df, \"BUSTEDS\", \"CV(alpha)\", \"average_CV(alpha)\", gate=2, bins=15)\n",
    "\n",
    "# DH_Rate\n",
    "df1_DH_Rate = process(df, \"BUSTEDS-MH\", \"DH_Rate\", \"average(DH_Rate)\", gate=2, bins=15)\n",
    "\n",
    "# TH Rate\n",
    "df1_TH_Rate = process(df, \"BUSTEDS-MH\", \"TH_Rate\", \"average(TH_Rate)\", gate=2, bins=15)\n",
    "\n",
    "# TH_SI Rate\n",
    "df1_TH_Rate_SI = process(df, \"BUSTEDS-MH\", \"TH_Rate_SI\", \"average(TH_Rate_SI)\", gate=2, bins=15)"
   ]
  },
  {
   "cell_type": "markdown",
   "id": "everyday-raise",
   "metadata": {},
   "source": [
    "## Plots"
   ]
  },
  {
   "cell_type": "code",
   "execution_count": null,
   "id": "touched-waters",
   "metadata": {},
   "outputs": [],
   "source": [
    "source = df1\n",
    "\n",
    "line1 = alt.Chart(source).mark_circle().encode(\n",
    "    x = alt.X('average_w3'),\n",
    "    y='fraction_under_selection',\n",
    "    size=\"num_bin_items\"\n",
    ").properties(width=400, height=300)\n",
    "\n",
    "source=df2 # BUSTEDS\n",
    "line2 = alt.Chart(source).mark_circle(color=\"red\").encode(\n",
    "    x = alt.X('average_w3'),\n",
    "    y='fraction_under_selection',\n",
    "    size=\"num_bin_items\",\n",
    ").properties(width=400, height=300)\n",
    "\n",
    "line1 + line1.transform_loess('average_w3', 'fraction_under_selection').mark_line(size=6) + line2 + line2.transform_loess('average_w3', 'fraction_under_selection').mark_line(color=\"red\")\n",
    "\n",
    "\n"
   ]
  },
  {
   "cell_type": "code",
   "execution_count": null,
   "id": "cathedral-posting",
   "metadata": {},
   "outputs": [],
   "source": [
    "source = df1_SRV\n",
    "\n",
    "CVa_line1 = alt.Chart(source).mark_circle().encode(\n",
    "    x = alt.X('average_CV(alpha)'),\n",
    "    y='fraction_under_selection',\n",
    "    size=\"num_bin_items\"\n",
    ").properties(width=400, height=300)\n",
    "\n",
    "source = df2_SRV # BUSTEDS\n",
    "CVa_line2 = alt.Chart(source).mark_circle(color=\"red\").encode(\n",
    "    x = alt.X('average_CV(alpha)'),\n",
    "    y='fraction_under_selection',\n",
    "    size=\"num_bin_items\",\n",
    ").properties(width=400, height=300)\n",
    "\n",
    "CVa_line1 + CVa_line1.transform_loess('average_CV(alpha)', 'fraction_under_selection').mark_line() + CVa_line2 + CVa_line2.transform_loess('average_CV(alpha)', 'fraction_under_selection').mark_line(color=\"red\")\n",
    "\n",
    "#line1 + line1.transform_loess('average_CV(alpha)', 'fraction_under_selection').mark_line(size=6)\n"
   ]
  },
  {
   "cell_type": "code",
   "execution_count": null,
   "id": "floppy-drama",
   "metadata": {},
   "outputs": [],
   "source": [
    "line1 + line1.transform_loess('average_w3', 'fraction_under_selection').mark_line(size=6) + line2 + line2.transform_loess('average_w3', 'fraction_under_selection').mark_line(color=\"red\") | CVa_line1 + CVa_line1.transform_loess('average_CV(alpha)', 'fraction_under_selection').mark_line() + CVa_line2 + CVa_line2.transform_loess('average_CV(alpha)', 'fraction_under_selection').mark_line(color=\"red\")\n",
    " \n"
   ]
  },
  {
   "cell_type": "markdown",
   "id": "steady-invitation",
   "metadata": {},
   "source": [
    "## MH Plots"
   ]
  },
  {
   "cell_type": "code",
   "execution_count": null,
   "id": "trying-seller",
   "metadata": {},
   "outputs": [],
   "source": [
    "df1_DH_Rate.describe()"
   ]
  },
  {
   "cell_type": "code",
   "execution_count": null,
   "id": "quick-decline",
   "metadata": {},
   "outputs": [],
   "source": [
    "df1_DH_Rate.columns"
   ]
  },
  {
   "cell_type": "code",
   "execution_count": null,
   "id": "nasty-offer",
   "metadata": {},
   "outputs": [],
   "source": [
    "source =  df1_DH_Rate\n",
    "chart1 = alt.Chart(source).mark_circle(size=200).encode(\n",
    "    x    = alt.X(\"average(DH_Rate)\"),\n",
    "    y    = alt.Y(\"fraction_under_selection\")\n",
    ").properties(\n",
    "    width=300, \n",
    "    height=200)\n",
    "\n",
    "#chart1 + chart.transform_loess('average(DH_Rate)', 'fraction_under_selection').mark_line()\n",
    "chart1"
   ]
  },
  {
   "cell_type": "code",
   "execution_count": null,
   "id": "brutal-teacher",
   "metadata": {},
   "outputs": [],
   "source": [
    "source =  df1_TH_Rate\n",
    "chart2 = alt.Chart(source).mark_circle(size=200).encode(\n",
    "    x    = alt.X(\"average(TH_Rate)\"),\n",
    "    y    = alt.Y(\"fraction_under_selection\")\n",
    ").properties(\n",
    "    width=300, \n",
    "    height=200)\n",
    "\n",
    "#chart + chart.transform_loess('average(TH_Rate)', 'fraction_under_selection').mark_line()\n",
    "chart2"
   ]
  },
  {
   "cell_type": "code",
   "execution_count": null,
   "id": "green-engineering",
   "metadata": {},
   "outputs": [],
   "source": [
    "source =  df1_TH_Rate_SI\n",
    "chart3 = alt.Chart(source).mark_circle(size=200).encode(\n",
    "    x    = alt.X(\"average(TH_Rate_SI)\"),\n",
    "    y    = alt.Y(\"fraction_under_selection\"),\n",
    ").properties(\n",
    "    width=300, \n",
    "    height=200)\n",
    "\n",
    "#chart + chart.transform_loess('average(TH_Rate_SI)', 'fraction_under_selection').mark_line()\n",
    "chart3"
   ]
  },
  {
   "cell_type": "code",
   "execution_count": null,
   "id": "fifty-sugar",
   "metadata": {},
   "outputs": [],
   "source": [
    "chart1 | chart2 | chart3"
   ]
  },
  {
   "cell_type": "code",
   "execution_count": null,
   "id": "pleased-pride",
   "metadata": {},
   "outputs": [],
   "source": [
    "source = df\n",
    "#source = source[source[\"Method\"] == \"BUSTEDS-MH\"] # By method\n",
    "source = source[source[\"DH_Rate\"] < 1.0] # Gate\n",
    "#source =  df1_TH_Rate_SI\n",
    "\n",
    "chart = alt.Chart(source).mark_point().encode(\n",
    "    x    = alt.X(\"DH_Rate\"),\n",
    "    y    = alt.Y(\"LRT p-value\", scale=alt.Scale(type='sqrt')),\n",
    "    color=\"Method\"\n",
    ").properties(\n",
    "    width=400, \n",
    "    height=300)\n",
    "    \n",
    "chart1 = alt.Chart(source).mark_circle(color=\"red\").encode(\n",
    "    x    = alt.X(\"TH_Rate\"),\n",
    "    y    = alt.Y(\"LRT p-value\")\n",
    ").properties(\n",
    "    width=400, \n",
    "    height=300)\n",
    "\n",
    "##chart + chart.transform_loess('average(TH_Rate_SI)', 'fraction_under_selection').mark_line()\n",
    "#chart + chart1\n",
    "#chart + chart.transform_regression(\"DH_Rate\", \"LRT p-value\", method=\"linear\").mark_line(color=\"black\")\n",
    "chart "
   ]
  },
  {
   "cell_type": "code",
   "execution_count": null,
   "id": "10ad1868-53ad-4a2c-b7f7-746106bc03fe",
   "metadata": {},
   "outputs": [],
   "source": [
    "df[\"TH_Rate\"].describe()"
   ]
  },
  {
   "cell_type": "code",
   "execution_count": null,
   "id": "c33264dc-c6fd-45ff-90ea-51cf684be32e",
   "metadata": {},
   "outputs": [],
   "source": [
    "source = df\n",
    "#source = source[source[\"Method\"] == \"BUSTEDS-MH\"] # By method\n",
    "source = source[source[\"TH_Rate\"] < 1.0] # Gate\n",
    "#source =  df1_TH_Rate_SI\n",
    "\n",
    "chart = alt.Chart(source).mark_point().encode(\n",
    "    x    = alt.X(\"TH_Rate\"),\n",
    "    y    = alt.Y(\"LRT p-value\", scale=alt.Scale(type='sqrt')),\n",
    "    color=\"Method\"\n",
    ").properties(\n",
    "    width=400, \n",
    "    height=300)\n",
    "    \n",
    "chart "
   ]
  },
  {
   "cell_type": "code",
   "execution_count": null,
   "id": "f6e5c257-887c-4d96-9de2-4036505dfc83",
   "metadata": {},
   "outputs": [],
   "source": [
    "df[\"TH_Rate_SI\"].describe()"
   ]
  },
  {
   "cell_type": "code",
   "execution_count": null,
   "id": "6d333dcc-560d-42f1-b6f5-d0f683a61c00",
   "metadata": {},
   "outputs": [],
   "source": [
    "source = df\n",
    "#source = source[source[\"Method\"] == \"BUSTEDS-MH\"] # By method\n",
    "source = source[source[\"TH_Rate_SI\"] < 5] # Gate\n",
    "#source =  df1_TH_Rate_SI\n",
    "\n",
    "chart = alt.Chart(source).mark_point().encode(\n",
    "    x    = alt.X(\"TH_Rate_SI\"),\n",
    "    y    = alt.Y(\"LRT p-value\", scale=alt.Scale(type='sqrt')),\n",
    "    color=\"Method\"\n",
    ").properties(\n",
    "    width=400, \n",
    "    height=300)\n",
    "    \n",
    "chart "
   ]
  },
  {
   "cell_type": "code",
   "execution_count": null,
   "id": "1918974e-0d5d-4703-8aa6-86e9928c89cd",
   "metadata": {},
   "outputs": [],
   "source": [
    "source = df\n",
    "#source = source[source[\"Method\"] == \"BUSTEDS-MH\"] # By method\n",
    "source = source[source[\"DH_Rate\"] < 1.0] # Gate\n",
    "#source =  df1_TH_Rate_SI\n",
    "chart = alt.Chart(source).mark_circle(color = \"steelblue\").encode(\n",
    "    x    = alt.X(\"DH_Rate\"),\n",
    "    y    = alt.Y(\"ΔcAIC\", scale=alt.Scale(type='sqrt'))\n",
    ").properties(\n",
    "    width=400, \n",
    "    height=300)\n",
    "\n",
    "chart1 = alt.Chart(source).mark_circle(color=\"red\").encode(\n",
    "    x    = alt.X(\"TH_Rate\"),\n",
    "    y    = alt.Y(\"LRT p-value\")\n",
    ").properties(\n",
    "    width=400, \n",
    "    height=300)\n",
    "\n",
    "##chart + chart.transform_loess('average(TH_Rate_SI)', 'fraction_under_selection').mark_line()\n",
    "#chart + chart1\n",
    " \n",
    "chart + chart.transform_regression(\"DH_Rate\", \"ΔcAIC\", method=\"exp\").mark_line(color=\"black\")\n",
    "#chart + chart.transform_loess('DH_Rate', 'ΔcAIC').mark_line()"
   ]
  },
  {
   "cell_type": "code",
   "execution_count": null,
   "id": "0d1f929b-1612-42b2-a629-f22be83fa0e4",
   "metadata": {},
   "outputs": [],
   "source": [
    "source = df\n",
    "#source = source[source[\"Method\"] == \"BUSTEDS-MH\"] # By method\n",
    "source = source[source[\"TH_Rate\"] < 1.0] # Gate\n",
    "#source =  df1_TH_Rate_SI\n",
    "chart = alt.Chart(source).mark_circle(color = \"steelblue\").encode(\n",
    "    x    = alt.X(\"TH_Rate\"),\n",
    "    y    = alt.Y(\"ΔcAIC\", scale=alt.Scale(type='sqrt'))\n",
    ").properties(\n",
    "    width=400, \n",
    "    height=300)\n",
    " \n",
    "chart + chart.transform_regression(\"TH_Rate\", \"ΔcAIC\", method=\"exp\").mark_line(color=\"black\")"
   ]
  },
  {
   "cell_type": "code",
   "execution_count": null,
   "id": "65280d56-0dc9-4528-bda9-d30bab4dc4b4",
   "metadata": {},
   "outputs": [],
   "source": [
    "source = df\n",
    "#source = source[source[\"Method\"] == \"BUSTEDS-MH\"] # By method\n",
    "source = source[source[\"TH_Rate_SI\"] < 5.0] # Gate\n",
    "#source =  df1_TH_Rate_SI\n",
    "chart = alt.Chart(source).mark_circle(color = \"steelblue\").encode(\n",
    "    x    = alt.X(\"TH_Rate_SI\"),\n",
    "    y    = alt.Y(\"ΔcAIC\", scale=alt.Scale(type='sqrt'))\n",
    ").properties(\n",
    "    width=400, \n",
    "    height=300)\n",
    " \n",
    "chart + chart.transform_regression(\"TH_Rate_SI\", \"ΔcAIC\", method=\"exp\").mark_line(color=\"black\")"
   ]
  },
  {
   "cell_type": "markdown",
   "id": "facial-newspaper",
   "metadata": {},
   "source": [
    "## Test plots, not ready for the mainstream"
   ]
  },
  {
   "cell_type": "code",
   "execution_count": null,
   "id": "d950d7cd-c114-40e4-b505-b378cda9c084",
   "metadata": {},
   "outputs": [],
   "source": [
    "source = df\n",
    "\n",
    "source = source[source[\"Method\"] == \"BUSTEDS-MH\"] # By method\n",
    "source = source[source[\"DH_Rate\"] < 1.0] # Gate\n",
    "source = source[source[\"w3\"] < 10.0] # Gate\n",
    "\n",
    "chart = alt.Chart(source).mark_circle(color = \"steelblue\").encode(\n",
    "    x    = alt.X(\"DH_Rate\"),\n",
    "    y    = alt.Y(\"w3\"),\n",
    ").properties(\n",
    "    width=400, \n",
    "    height=300)\n",
    "\n",
    "\n",
    " \n",
    "#chart + chart.transform_regression(\"DH_Rate\", \"ΔcAIC\", method=\"exp\").mark_line(color=\"black\")\n",
    "#chart + chart.transform_loess('DH_Rate', 'ΔcAIC').mark_line\n",
    "#chart + chart.transform_regression(\"DH_Rate\", \"w3\", method=\"linear\").mark_line(color=\"black\")\n",
    "chart"
   ]
  },
  {
   "cell_type": "code",
   "execution_count": null,
   "id": "plain-breathing",
   "metadata": {},
   "outputs": [],
   "source": [
    "source = df\n",
    "\n",
    "##source = source[source[\"Method\"] == \"BUSTEDS-MH\"] # By method\n",
    "source = source[source[\"TH_Rate\"] < 1.0] # Gate\n",
    "source = source[source[\"w3\"] < 10.0] # Gate\n",
    "#source =  df1_TH_Rate_SI\n",
    "\n",
    "chart = alt.Chart(source).mark_circle(color = \"steelblue\").encode(\n",
    "    x    = alt.X(\"TH_Rate\"),\n",
    "    y    = alt.Y(\"w3\"),\n",
    ").properties(\n",
    "    width=400, \n",
    "    height=300)\n",
    "\n",
    "\n",
    " \n",
    "#chart + chart.transform_regression(\"DH_Rate\", \"ΔcAIC\", method=\"exp\").mark_line(color=\"black\")\n",
    "#chart + chart.transform_loess('DH_Rate', 'ΔcAIC').mark_line\n",
    "#chart + chart.transform_regression(\"DH_Rate\", \"w3\", method=\"linear\").mark_line(color=\"black\")\n",
    "chart"
   ]
  },
  {
   "cell_type": "code",
   "execution_count": null,
   "id": "consecutive-hybrid",
   "metadata": {},
   "outputs": [],
   "source": [
    "source = df\n",
    "\n",
    "##source = source[source[\"Method\"] == \"BUSTEDS-MH\"] # By method\n",
    "source = source[source[\"DH_Rate\"] < 1.0] # Gate\n",
    "source = source[source[\"SRV3\"] < 10.0] # Gate\n",
    "#source =  df1_TH_Rate_SI\n",
    "\n",
    "chart = alt.Chart(source).mark_circle(color = \"steelblue\").encode(\n",
    "    x    = alt.X(\"DH_Rate\"),\n",
    "    y    = alt.Y(\"SRV3\"),\n",
    ").properties(\n",
    "    width=400, \n",
    "    height=300)\n",
    "\n",
    "\n",
    " \n",
    "#chart + chart.transform_regression(\"DH_Rate\", \"ΔcAIC\", method=\"exp\").mark_line(color=\"black\")\n",
    "#chart + chart.transform_loess('DH_Rate', 'ΔcAIC').mark_line\n",
    "#chart + chart.transform_regression(\"DH_Rate\", \"w3\", method=\"linear\").mark_line(color=\"black\")\n",
    "chart"
   ]
  },
  {
   "cell_type": "code",
   "execution_count": null,
   "id": "hispanic-blade",
   "metadata": {},
   "outputs": [],
   "source": [
    "import pandas as pd\n",
    "import altair as alt\n",
    "import numpy as np\n",
    "\n",
    "source = df\n",
    "source = source[source[\"w3\"] < 10.0] # Gate\n",
    "alt.Chart(source).mark_bar(\n",
    "    opacity=0.6,\n",
    "    binSpacing=0\n",
    ").encode(\n",
    "    alt.X('w3', bin=alt.Bin(maxbins=100)),\n",
    "    alt.Y('count()', stack=None),\n",
    "    alt.Color('Method')\n",
    ")"
   ]
  },
  {
   "cell_type": "code",
   "execution_count": null,
   "id": "applied-midwest",
   "metadata": {},
   "outputs": [],
   "source": [
    "import pandas as pd\n",
    "import altair as alt\n",
    "import numpy as np\n",
    "\n",
    "source = df\n",
    "source = source[source[\"SRV3\"] < 100.0] # Gate\n",
    "\n",
    "alt.Chart(source).mark_bar(\n",
    "    opacity=0.6,\n",
    "    binSpacing=0\n",
    ").encode(\n",
    "    alt.X('SRV3', bin=alt.Bin(maxbins=100)),\n",
    "    alt.Y('count()', stack=None),\n",
    "    alt.Color('Method')\n",
    ")"
   ]
  },
  {
   "cell_type": "code",
   "execution_count": null,
   "id": "pacific-singles",
   "metadata": {},
   "outputs": [],
   "source": [
    "import altair as alt\n",
    "from vega_datasets import data\n",
    "\n",
    "source = data.barley()\n",
    "\n",
    "alt.Chart(source).mark_line().encode(\n",
    "    x='year:O',\n",
    "    y='median(yield)',\n",
    "    color='site'\n",
    ")"
   ]
  },
  {
   "cell_type": "code",
   "execution_count": null,
   "id": "secondary-absence",
   "metadata": {},
   "outputs": [],
   "source": [
    "data.barley()"
   ]
  },
  {
   "cell_type": "code",
   "execution_count": null,
   "id": "mature-latter",
   "metadata": {},
   "outputs": [],
   "source": [
    "# Filename, w3, Model"
   ]
  },
  {
   "cell_type": "code",
   "execution_count": null,
   "id": "collect-blind",
   "metadata": {},
   "outputs": [],
   "source": [
    "source = df\n",
    "\n",
    "source = source[source[\"w3\"] < 10]\n",
    "\n",
    "alt.Chart(source).mark_line().encode(\n",
    "    y='w3',\n",
    "    x='Method',\n",
    "    color='Gene'\n",
    ")"
   ]
  },
  {
   "cell_type": "code",
   "execution_count": null,
   "id": "portuguese-valuation",
   "metadata": {},
   "outputs": [],
   "source": [
    "df"
   ]
  },
  {
   "cell_type": "code",
   "execution_count": null,
   "id": "breeding-innocent",
   "metadata": {},
   "outputs": [],
   "source": [
    "df[\"ΔcAIC\"].describe()"
   ]
  },
  {
   "cell_type": "code",
   "execution_count": null,
   "id": "packed-shock",
   "metadata": {},
   "outputs": [],
   "source": [
    "alt.Chart(df).mark_bar().encode(\n",
    "    alt.X(\"ΔcAIC\", bin=alt.BinParams(maxbins = 100)),\n",
    "    y='count()'\n",
    ").facet(\n",
    "    alt.Column('Method', sort = alt.EncodingSortField(order=None))\n",
    ")"
   ]
  },
  {
   "cell_type": "code",
   "execution_count": null,
   "id": "wireless-recovery",
   "metadata": {},
   "outputs": [],
   "source": []
  }
 ],
 "metadata": {
  "kernelspec": {
   "display_name": "Python 3",
   "language": "python",
   "name": "python3"
  },
  "language_info": {
   "codemirror_mode": {
    "name": "ipython",
    "version": 3
   },
   "file_extension": ".py",
   "mimetype": "text/x-python",
   "name": "python",
   "nbconvert_exporter": "python",
   "pygments_lexer": "ipython3",
   "version": "3.9.1"
  }
 },
 "nbformat": 4,
 "nbformat_minor": 5
}
